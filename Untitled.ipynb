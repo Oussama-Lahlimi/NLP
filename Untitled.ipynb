{
 "cells": [
  {
   "cell_type": "code",
   "execution_count": 62,
   "id": "f3fc4067",
   "metadata": {},
   "outputs": [],
   "source": [
    "def viterbi(obs, states, start_p, trans_p, emit_p):\n",
    "    V = [{}]\n",
    "    path = {}\n",
    "\n",
    "    # Initialize base cases (t == 0)\n",
    "    for y in states:\n",
    "        V[0][y] = start_p[y] * emit_p[y][obs[0]]\n",
    "        path[y] = [y]\n",
    "    #print(V)\n",
    "    # Run Viterbi for t > 0\n",
    "    for t in range(1, len(obs)):\n",
    "        V.append({})\n",
    "        newpath = {}\n",
    "\n",
    "        for y in states:\n",
    "            # Get the maximum probability\n",
    "            (prob, state) = max([(V[t-1][y0] * trans_p[y0][y] * emit_p[y][obs[t]], y0) for y0 in states])\n",
    "            V[t][y] = prob\n",
    "            newpath[y] = path[state] + [y]\n",
    "       # print(V)\n",
    "        # Don't need to remember the old paths\n",
    "        path = newpath\n",
    "\n",
    "    (prob, state) = max([(V[len(obs) - 1][y], y) for y in states])\n",
    "    return (prob, path[state])\n"
   ]
  },
  {
   "cell_type": "code",
   "execution_count": 63,
   "id": "485eac1e",
   "metadata": {},
   "outputs": [],
   "source": [
    "states = ('NNP', 'MD','VB','JJ','NN','RB','DT')\n",
    "\n",
    "start_p = {'NNP': 0.2767,'MD': 0.0006,'VB':0.0031,'JJ':0.0453,'NN':0.0449,'RB':0.0510,'DT':0.2026\n",
    "}\n",
    "\n",
    "trans_p = {\n",
    "    'NNP':{'NNP': 0.3777,'MD': 0.0110,'VB':0.0009,'JJ':0.0084,'NN':0.0584,'RB':0.0090,'DT':0.0025},\n",
    "    'MD':{'NNP': 0.0008,'MD': 0.0002,'VB':0.7968,'JJ':0.0005,'NN':0.0008,'RB':0.1698,'DT':0.0014},\n",
    "    'VB':{'NNP': 0.0322,'MD': 0.0005,'VB':0.0050,'JJ':0.0837,'NN':0.0615,'RB':0.0514,'DT':0.2231},\n",
    "    'JJ':{'NNP': 0.0366,'MD': 0.0004,'VB':0.0001,'JJ':0.0753,'NN':0.4509,'RB':0.0036,'DT':0.0036},\n",
    "    'NN':{'NNP': 0.0096,'MD': 0.0176,'VB':0.0014,'JJ':0.0086,'NN':0.1216,'RB':0.0177,'DT':0.0068},\n",
    "    'RB':{'NNP': 0.0068,'MD': 0.0102,'VB':0.1011,'JJ':0.1012,'NN':0.0120,'RB':0.0728,'DT':0.0479},\n",
    "    'DT':{'NNP': 0.1147,'MD': 0.0021,'VB':0.0002,'JJ':0.2157,'NN':0.4744,'RB':0.0102,'DT':0.0017}\n",
    "}\n",
    "\n",
    "emit_p = {\n",
    "    'NNP': {'Janet': 0.000032, 'will': 0.0, 'back': 0.0, 'the': 0.000048, 'bill': 0.0},\n",
    "    'MD': {'Janet': 0.0, 'will': 0.308431, 'back': 0.0, 'the': 0.0, 'bill': 0.0},\n",
    "    'VB': {'Janet': 0.0, 'will': 0.000028, 'back': 0.000672, 'the': 0.0, 'bill': 0.000028},\n",
    "    'JJ': {'Janet': 0.0, 'will': 0.000028, 'back': 0.000340, 'the': 0.0, 'bill': 0.0},\n",
    "    'NN': {'Janet': 0.0, 'will': 0.000200, 'back': 0.000223, 'the': 0.0, 'bill': 0.002337},\n",
    "    'RB': {'Janet': 0.0, 'will': 0.0, 'back': 0.010446, 'the': 0.0, 'bill': 0.0},\n",
    "    'DT': {'Janet': 0.0, 'will': 0.0, 'back': 0.0, 'the': 0.506099, 'bill': 0.0},\n",
    "\n",
    "}\n",
    "\n",
    "obs = ['Janet', 'will', 'back', 'the', 'bill']\n"
   ]
  },
  {
   "cell_type": "code",
   "execution_count": 64,
   "id": "52e23052",
   "metadata": {},
   "outputs": [
    {
     "name": "stdout",
     "output_type": "stream",
     "text": [
      "Most likely sequence of hidden states: ['NNP', 'MD', 'VB', 'DT', 'NN']\n"
     ]
    }
   ],
   "source": [
    "prob, path = viterbi(obs, states, start_p, trans_p, emit_p)\n",
    "print(\"Most likely sequence of hidden states:\", path)\n"
   ]
  },
  {
   "cell_type": "code",
   "execution_count": 65,
   "id": "7aedef1c",
   "metadata": {},
   "outputs": [],
   "source": [
    "def viterbii(obs, states, start_p, trans_p, emit_p):\n",
    "    V = [{}]\n",
    "    path = {}\n",
    "\n",
    "    # Initialize base cases (t == 0)\n",
    "    for y in states:\n",
    "        V[0][y] = start_p[y] * emit_p[y][obs[0]]\n",
    "        path[y] = [y]\n",
    "    #print(V)\n",
    "    # Run Viterbi for t > 0\n",
    "    for t in range(1, len(obs)):\n",
    "        V.append({})\n",
    "        newpath = {}\n",
    "\n",
    "        for y in states:\n",
    "            # Get the maximum probability\n",
    "            (prob, state) = max([(V[t-1][y0] * trans_p[y0][y] * emit_p[y][obs[t]], y0) for y0 in states])\n",
    "            V[t][y] = prob\n",
    "            newpath[y] = path[state] + [y]\n",
    "       # print(V)\n",
    "        # Don't need to remember the old paths\n",
    "        path = newpath\n",
    "\n",
    "    (prob, state) = max([(V[len(obs) - 1][y], y) for y in states])\n",
    "    return (prob, path[state])"
   ]
  },
  {
   "cell_type": "code",
   "execution_count": 66,
   "id": "7efa3d9c",
   "metadata": {},
   "outputs": [
    {
     "name": "stdout",
     "output_type": "stream",
     "text": [
      "Most likely sequence of hidden states: ['NNP', 'MD', 'VB', 'DT', 'NN']\n"
     ]
    }
   ],
   "source": [
    "prob, path = viterbii(obs, states, start_p, trans_p, emit_p)\n",
    "print(\"Most likely sequence of hidden states:\", path)"
   ]
  },
  {
   "cell_type": "code",
   "execution_count": 67,
   "id": "b2160ec2",
   "metadata": {},
   "outputs": [],
   "source": [
    "def verb(obs, states, start_p, trans_p, emit_p):\n",
    "    V = [{}]\n",
    "    path = {}\n",
    "    L=[]\n",
    "\n",
    "    # Initialize base cases (t == 0)\n",
    "    for y in states:\n",
    "        V[0][y] = start_p[y] * emit_p[y][obs[0]]\n",
    "        path[y] = [y]\n",
    "    #print(V)\n",
    "    # Run Viterbi for t > 0\n",
    "    for t in range(1, len(obs)):\n",
    "        V.append({})\n",
    "        newpath = {}\n",
    "        for y in states:\n",
    "            for y0 in states:\n",
    "                L.append((V[t-1][y0] * trans_p[y0][y] * emit_p[y][obs[t]], y0))\n",
    "            (prob, state) = max(L)\n",
    "            L=[]\n",
    "            V[t][y] = prob\n",
    "            newpath[y] = path[state] + [y]\n",
    "        path = newpath\n",
    "    for y in states:\n",
    "        L.append((V[len(obs) - 1][y], y))\n",
    "    (prob, state) = max(L)\n",
    "    return (prob, path[state])"
   ]
  },
  {
   "cell_type": "code",
   "execution_count": 68,
   "id": "577f2123",
   "metadata": {},
   "outputs": [
    {
     "name": "stdout",
     "output_type": "stream",
     "text": [
      "Most likely sequence of hidden states: ['NNP', 'MD', 'VB', 'DT', 'NN']\n"
     ]
    }
   ],
   "source": [
    "prob, path = verb(obs, states, start_p, trans_p, emit_p)\n",
    "print(\"Most likely sequence of hidden states:\", path)"
   ]
  },
  {
   "cell_type": "code",
   "execution_count": 69,
   "id": "baecb856",
   "metadata": {},
   "outputs": [],
   "source": [
    "def initialize_base_cases(obs, states, start_p, emit_p):\n",
    "    V = [{}]\n",
    "    path = {}\n",
    "\n",
    "    for y in states:\n",
    "        V[0][y] = start_p[y] * emit_p[y][obs[0]]\n",
    "        path[y] = [y]\n",
    "\n",
    "    return V, path\n",
    "\n",
    "\n",
    "def run_viterbi(obs, states, V, path, trans_p, emit_p):\n",
    "    L=[]\n",
    "    for t in range(1, len(obs)):\n",
    "        V.append({})\n",
    "        newpath = {}\n",
    "\n",
    "        for y in states:\n",
    "            for y0 in states:\n",
    "                L.append((V[t-1][y0] * trans_p[y0][y] * emit_p[y][obs[t]], y0))\n",
    "            (prob, state) = max(L)\n",
    "            L=[]\n",
    "            V[t][y] = prob\n",
    "            newpath[y] = path[state] + [y]\n",
    "\n",
    "        path = newpath\n",
    "\n",
    "    return V, path\n",
    "\n",
    "\n",
    "def get_max_prob_state(obs, states, V, path):\n",
    "    L=[]\n",
    "    for y in states:\n",
    "        L.append((V[len(obs) - 1][y], y))\n",
    "    (max_prob, max_state) = max(L)\n",
    "    return max_prob, path[max_state]\n",
    "\n",
    "\n",
    "def viterbiii(obs, states, start_p, trans_p, emit_p):\n",
    "    V, path = initialize_base_cases(obs, states, start_p, emit_p)\n",
    "    V, path = run_viterbi(obs, states, V, path, trans_p, emit_p)\n",
    "    return get_max_prob_state(obs, states, V, path)\n"
   ]
  },
  {
   "cell_type": "code",
   "execution_count": 70,
   "id": "acae62a7",
   "metadata": {},
   "outputs": [
    {
     "name": "stdout",
     "output_type": "stream",
     "text": [
      "Most likely sequence of hidden states: ['NNP', 'MD', 'VB', 'DT', 'NN']\n"
     ]
    }
   ],
   "source": [
    "prob, path = viterbiii(obs, states, start_p, trans_p, emit_p)\n",
    "print(\"Most likely sequence of hidden states:\", path)"
   ]
  },
  {
   "cell_type": "code",
   "execution_count": 76,
   "id": "60d60c59",
   "metadata": {},
   "outputs": [],
   "source": [
    "import numpy as np\n",
    "\n",
    "def viterbi4(obs, states, start_p, trans_p, emit_p):\n",
    "    V = [{}]\n",
    "    for st in states:\n",
    "        V[0][st] = {\"prob\": start_p[st] * emit_p[st][obs[0]], \"prev\": None}\n",
    "    # Pour chaque observation de la séquence\n",
    "    for t in range(1, len(obs)):\n",
    "        V.append({})\n",
    "        # Pour chaque état\n",
    "        for st in states:\n",
    "            max_tr_prob = max(V[t-1][prev_st][\"prob\"]*trans_p[prev_st][st] for prev_st in states)\n",
    "            for prev_st in states:\n",
    "                if V[t-1][prev_st][\"prob\"] * trans_p[prev_st][st] == max_tr_prob:\n",
    "                    max_prob = max_tr_prob * emit_p[st][obs[t]]\n",
    "                    V[t][st] = {\"prob\": max_prob, \"prev\": prev_st}\n",
    "                    break\n",
    "    opt = []\n",
    "    # Retrouver le chemin optimal\n",
    "    max_prob = max(value[\"prob\"] for value in V[-1].values())\n",
    "    previous = None\n",
    "    for st, data in V[-1].items():\n",
    "        if data[\"prob\"] == max_prob:\n",
    "            opt.append(st)\n",
    "            previous = st\n",
    "            break\n",
    "    # Retourner en arrière dans V\n",
    "    for t in range(len(V) - 2, -1, -1):\n",
    "        opt.insert(0, V[t + 1][previous][\"prev\"])\n",
    "        previous = V[t + 1][previous][\"prev\"]\n",
    "    return opt"
   ]
  },
  {
   "cell_type": "code",
   "execution_count": 78,
   "id": "d622e7c2",
   "metadata": {},
   "outputs": [
    {
     "name": "stdout",
     "output_type": "stream",
     "text": [
      "Most likely sequence of hidden states: ['NNP', 'MD', 'VB', 'DT', 'NN']\n"
     ]
    }
   ],
   "source": [
    "prob1= viterbi4(obs, states, start_p, trans_p, emit_p)\n",
    "print(\"Most likely sequence of hidden states:\",prob1)"
   ]
  },
  {
   "cell_type": "code",
   "execution_count": 81,
   "id": "9fff3f51",
   "metadata": {},
   "outputs": [],
   "source": [
    "def viterbi41(obs, states, start_p, trans_p, emit_p):\n",
    "    \n",
    "    # Création de la matrice V pour stocker les probabilités et les états précédents\n",
    "    V = [{}]\n",
    "    \n",
    "    # Initialisation des probabilités pour la première observation\n",
    "    for state in states:\n",
    "        V[0][state] = {\"prob\": start_p[state] * emit_p[state][obs[0]], \"prev\": None}\n",
    "        # V[0][state] contient la probabilité et l'état précédent pour la première observation\n",
    "    for t in range(1, len(obs)):\n",
    "        V.append({})\n",
    "        for state in states:\n",
    "            max_prob = -1  # Initialisation de la probabilité maximale à une valeur négative\n",
    "            max_prev_state = None  # Initialisation de l'état précédent\n",
    "            \n",
    "            # Parcours des états précédents pour trouver le meilleur prédécesseur\n",
    "            for prev_state in states:\n",
    "                # Calcul de la probabilité temporaire en utilisant la transition et l'émission\n",
    "                temp_prob = V[t-1][prev_state][\"prob\"] * trans_p[prev_state][state] * emit_p[state][obs[t]] # temp_prob représente la probabilité temporaire pour l'état actuel \n",
    "                  # Met à jour la probabilité maximale et l'état précédent si on a trouvé temp_prob > max_prob\n",
    "                if temp_prob > max_prob:\n",
    "                    max_prob = temp_prob\n",
    "                    max_prev_state = prev_state\n",
    "            \n",
    "            # Stockage de la probabilité maximale et de l'état précédent correspondant dans V\n",
    "            V[t][state] = {\"prob\": max_prob, \"prev\": max_prev_state}\n",
    "    \n",
    "    # Retrouver le chemin optimal en suivant les états précédents\n",
    "    opt = []\n",
    "    \n",
    "    # Recherche de l'état final avec la probabilité maximale parmi les états finaux\n",
    "    max_prob = max(value[\"prob\"] for value in V[-1].values())\n",
    "    final_state = None  # Initialisation de l'état final correspondant\n",
    "    for state, data in V[-1].items():\n",
    "        if data[\"prob\"] == max_prob:\n",
    "            final_state = state\n",
    "            break\n",
    "    \n",
    "    # Retourne en arrière dans V à partir de l'état final pour obtenir les états précédents\n",
    "    opt.insert(0, final_state)\n",
    "    prev_state = final_state\n",
    "    for t in range(len(V) - 2, -1, -1):\n",
    "        prev_state = V[t + 1][prev_state][\"prev\"]\n",
    "        opt.insert(0, prev_state)\n",
    "        \n",
    "    \n",
    "    return opt\n"
   ]
  },
  {
   "cell_type": "code",
   "execution_count": 82,
   "id": "5d348dea",
   "metadata": {},
   "outputs": [
    {
     "name": "stdout",
     "output_type": "stream",
     "text": [
      "Most likely sequence of hidden states: ['NNP', 'MD', 'VB', 'DT', 'NN']\n"
     ]
    }
   ],
   "source": [
    "prob1= viterbi41(obs, states, start_p, trans_p, emit_p)\n",
    "print(\"Most likely sequence of hidden states:\",prob1)"
   ]
  },
  {
   "cell_type": "code",
   "execution_count": 83,
   "id": "eff3f04b",
   "metadata": {},
   "outputs": [],
   "source": [
    "import numpy as np\n",
    "\n",
    "def viterbi_initialisation(states, start_p, emit_p, obs):\n",
    "    V = [{}] \n",
    "    for state in states:\n",
    "        V[0][state] = {\"prob\": start_p[state] * emit_p[state][obs[0]], \"prev\": None}\n",
    "    return V\n",
    "\n",
    "def viterbi_remplissage_V(V, states, trans_p, emit_p, obs):\n",
    "    for t in range(1, len(obs)):\n",
    "        V.append({})\n",
    "        for state in states:\n",
    "            max_prob = max(V[t-1][prev_state][\"prob\"]*trans_p[prev_state][state] for prev_state in states)\n",
    "            for prev_state in states:\n",
    "                if V[t-1][prev_state][\"prob\"] * trans_p[prev_state][state] == max_prob:\n",
    "                    max_prob = max_prob * emit_p[state][obs[t]]\n",
    "                    V[t][state] = {\"prob\": max_prob, \"prev\": prev_state}\n",
    "                    break\n",
    "    return V\n",
    "            \n",
    "def viterbi_output(V, states):\n",
    "    opt = [] \n",
    "    max_prob = max(value[\"prob\"] for value in V[-1].values())\n",
    "    previous = None\n",
    "    for st, data in V[-1].items():\n",
    "        if data[\"prob\"] == max_prob:\n",
    "            opt.append(st)\n",
    "            previous = st\n",
    "            break\n",
    "    for t in range(len(V) - 2, -1, -1):\n",
    "        opt.insert(0, V[t + 1][previous][\"prev\"])\n",
    "        previous = V[t + 1][previous][\"prev\"]\n",
    "    return opt\n",
    "\n",
    "def viterbi32(obs, states, start_p, trans_p, emit_p):\n",
    "    V = viterbi_init(states, start_p, emit_p, obs)\n",
    "    V = viterbi_fill(V, states, trans_p, emit_p, obs)\n",
    "    opt = viterbi_output(V, states)\n",
    "    return opt"
   ]
  },
  {
   "cell_type": "code",
   "execution_count": 84,
   "id": "15ca9cc3",
   "metadata": {},
   "outputs": [
    {
     "name": "stdout",
     "output_type": "stream",
     "text": [
      "Most likely sequence of hidden states: ['NNP', 'MD', 'VB', 'DT', 'NN']\n"
     ]
    }
   ],
   "source": [
    "prob1= viterbi32(obs, states, start_p, trans_p, emit_p)\n",
    "print(\"Most likely sequence of hidden states:\",prob1)"
   ]
  },
  {
   "cell_type": "code",
   "execution_count": 85,
   "id": "b111bdb3",
   "metadata": {},
   "outputs": [],
   "source": [
    "# Initialise la matrice V pour stocker les probabilités et les états précédents\n",
    "def viterbi_init(states, start_p, emit_p, obs):\n",
    "    V = [{}] # Crée V comme une liste contenant un dictionnaire pour la première observation\n",
    "    for state in states:\n",
    "        # Pour chaque état, calcule la probabilité initiale\n",
    "        # et stocke la probabilité et l'état précédent dans V \n",
    "        V[0][state] = {\"prob\": start_p[state] * emit_p[state][obs[0]], \"prev\": None}  \n",
    "    return V\n",
    "\n",
    "# Remplit de manière récursive la matrice V pour les observations suivantes   \n",
    "def viterbi_fill(V, states, trans_p, emit_p, obs):\n",
    "    for t in range(1, len(obs)):\n",
    "        V.append({}) # Ajoute un nouveau dictionnaire pour l'observation courante\n",
    "        for state in states:\n",
    "            # Trouve la meilleure probabilité de transition depuis les états précédents\n",
    "            max_prob = max(V[t-1][prev_state][\"prob\"]*trans_p[prev_state][state] for prev_state in states)\n",
    "            for prev_state in states:\n",
    "                # Met à jour V avec la nouvelle probabilité et l'état précédent\n",
    "                if V[t-1][prev_state][\"prob\"] * trans_p[prev_state][state] == max_prob:\n",
    "                    max_prob = max_prob * emit_p[state][obs[t]]\n",
    "                    V[t][state] = {\"prob\": max_prob, \"prev\": prev_state}\n",
    "                    break\n",
    "    return V\n",
    "\n",
    "# Retrouve le chemin optimal dans V            \n",
    "def viterbi_output(V, states):\n",
    "    opt = [] # Chemin optimal \n",
    "    # Trouve la probabilité finale maximale et l'état final correspondant\n",
    "    max_prob = max(value[\"prob\"] for value in V[-1].values())  \n",
    "    previous = None\n",
    "    for st, data in V[-1].items():\n",
    "        if data[\"prob\"] == max_prob:\n",
    "            opt.append(st) \n",
    "            previous = st\n",
    "            break\n",
    "    # Retourne en arrière pour trouver les états précédents optimaux\n",
    "    for t in range(len(V) - 2, -1, -1):\n",
    "        opt.insert(0, V[t + 1][previous][\"prev\"])\n",
    "        previous = V[t + 1][previous][\"prev\"]\n",
    "\n",
    "    return opt\n",
    "                \n",
    "# Lance Viterbi pour une séquence d'observations       \n",
    "def viterbi123(obs, states, start_p, trans_p, emit_p):\n",
    "    V = viterbi_init(states, start_p, emit_p, obs)\n",
    "    V = viterbi_fill(V, states, trans_p, emit_p, obs)\n",
    "    opt = viterbi_output(V, states)\n",
    "    return opt"
   ]
  },
  {
   "cell_type": "code",
   "execution_count": 86,
   "id": "c156f221",
   "metadata": {},
   "outputs": [
    {
     "name": "stdout",
     "output_type": "stream",
     "text": [
      "Most likely sequence of hidden states: ['NNP', 'MD', 'VB', 'DT', 'NN']\n"
     ]
    }
   ],
   "source": [
    "prob1= viterbi32(obs, states, start_p, trans_p, emit_p)\n",
    "print(\"Most likely sequence of hidden states:\",prob1)"
   ]
  },
  {
   "cell_type": "code",
   "execution_count": null,
   "id": "136729bc",
   "metadata": {},
   "outputs": [],
   "source": []
  }
 ],
 "metadata": {
  "kernelspec": {
   "display_name": "Python 3 (ipykernel)",
   "language": "python",
   "name": "python3"
  },
  "language_info": {
   "codemirror_mode": {
    "name": "ipython",
    "version": 3
   },
   "file_extension": ".py",
   "mimetype": "text/x-python",
   "name": "python",
   "nbconvert_exporter": "python",
   "pygments_lexer": "ipython3",
   "version": "3.9.7"
  }
 },
 "nbformat": 4,
 "nbformat_minor": 5
}
