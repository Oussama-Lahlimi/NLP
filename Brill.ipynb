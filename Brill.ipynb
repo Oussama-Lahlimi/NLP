{
 "cells": [
  {
   "cell_type": "markdown",
   "id": "f83cd922",
   "metadata": {},
   "source": [
    "### Exercice 1"
   ]
  },
  {
   "cell_type": "code",
   "execution_count": 30,
   "id": "4df0e241",
   "metadata": {},
   "outputs": [],
   "source": [
    "Corpus= [('la', 'DET'), ('belle', 'ADJ'), ('ferme', 'V'), ('la', \"DET\"), (\"porte\", 'N'), (\".\", \"PONCT\"), (\"la\",'DET'), ('belle','ADJ'),\n",
    "    (\"fille\", 'N'), ('est', \"COP\"), (\"ferme\",\"ADJ\"), ('.', \"PONCT\"), ('une','DET'),\n",
    "('belle','N'), ('la','PRO'), (\"porte\",'V'), ('.', \"PONCT\"), ('une','DET'), (\"belle\",\"ADJ\"), (\"fille\",\"N\"),\n",
    "('la','PRO'), ('porte','V'), (\".\", 'PONCT'), ('il','PRO'), ('la',\"PRO\"), ('porte','V'), ('.', \"PONCT\")]"
   ]
  },
  {
   "cell_type": "code",
   "execution_count": 31,
   "id": "f253b38a",
   "metadata": {},
   "outputs": [],
   "source": [
    "def Apprendre_Etiquettes(corpus):\n",
    "    my_dict = {} # Dictionnaire principal pour stocker les étiquettes et son occurrence par mot\n",
    "    sub_dict={} #sous-dictionnaire pour stocker l'étiquette et son occurrence\n",
    "    for etq in corpus:\n",
    "        if etq[0] not in my_dict:  #Verifie si le mot n'est pas dans le dictionnaire principal \n",
    "            sub_dict[etq[1]]=corpus.count(etq) #Ajouter l'étiquette et son occurrence au sous-dictionnaire\n",
    "            my_dict[etq[0]]=sub_dict   #Ajouter le sous-dictionnaire au dictionnaire principal pour le mot\n",
    "            sub_dict = {}\n",
    "        else:                         #si le mot est deja dans le dictionnaire principal\n",
    "            sub_dict=my_dict[etq[0]] #on retourne le sous dictionnaire qui est la valeur de ce mot dans le dictionnaire principal\n",
    "            sub_dict[etq[1]]=corpus.count(etq) #Ajouter la nouvelle étiquette et son occurrence au sous-dictionnaire\n",
    "            sub_dict = {}\n",
    "    return my_dict"
   ]
  },
  {
   "cell_type": "code",
   "execution_count": 32,
   "id": "95b9ff04",
   "metadata": {},
   "outputs": [
    {
     "data": {
      "text/plain": [
       "{'la': {'DET': 3, 'PRO': 3},\n",
       " 'belle': {'ADJ': 3, 'N': 1},\n",
       " 'ferme': {'V': 1, 'ADJ': 1},\n",
       " 'porte': {'N': 1, 'V': 3},\n",
       " '.': {'PONCT': 5},\n",
       " 'fille': {'N': 2},\n",
       " 'est': {'COP': 1},\n",
       " 'une': {'DET': 2},\n",
       " 'il': {'PRO': 1}}"
      ]
     },
     "execution_count": 32,
     "metadata": {},
     "output_type": "execute_result"
    }
   ],
   "source": [
    "Apprendre_Etiquettes(Corpus)"
   ]
  },
  {
   "cell_type": "code",
   "execution_count": 33,
   "id": "e2176899",
   "metadata": {},
   "outputs": [],
   "source": [
    "#Cette fonction permet de retourner l'étiquette la plus fréquente dans le corpus\n",
    "def choix_Etiquette(dict_etq):\n",
    "    for key, value in dict_etq.items(): #Parcourir chaque paire (cle, valeur) dans le dictionnaire d'étiquettes et son occurrence \n",
    "        if value == max(dict_etq.values()): # Si la valeur maximale de ce dictionnaire égale a la valeur courant on retourne l'étiquette (key=étiquette) \n",
    "            etq=key\n",
    "    return etq"
   ]
  },
  {
   "cell_type": "code",
   "execution_count": 34,
   "id": "f9cc08cf",
   "metadata": {},
   "outputs": [],
   "source": [
    "def Apprendre_lexique(corpus):\n",
    "    dict_lexique=Apprendre_Etiquettes(corpus) # dict_lexique va contenir le dectionnaire retourner par la fonction Apprendre_Etiquettes\n",
    "    lexique={}      # Dectionnaire qui va contenir le lexique\n",
    "    keys = list(dict_lexique.keys())  #Retourner les cles(mot) de dectionnaire\n",
    "    for k in keys:\n",
    "        lexique[k]=choix_Etiquette(dict_lexique[k]) #Ajouter a lexique le mot avec l'étiquette la plus fréquente \n",
    "    return lexique"
   ]
  },
  {
   "cell_type": "code",
   "execution_count": 35,
   "id": "cdcf6cb5",
   "metadata": {},
   "outputs": [
    {
     "name": "stdout",
     "output_type": "stream",
     "text": [
      "Le lexique obtenu est alors: {'la': 'PRO', 'belle': 'ADJ', 'ferme': 'ADJ', 'porte': 'V', '.': 'PONCT', 'fille': 'N', 'est': 'COP', 'une': 'DET', 'il': 'PRO'}\n"
     ]
    }
   ],
   "source": [
    "lexique=Apprendre_lexique(Corpus)\n",
    "print(\"Le lexique obtenu est alors:\",lexique)"
   ]
  },
  {
   "cell_type": "markdown",
   "id": "e515eae2",
   "metadata": {},
   "source": [
    "## exercice 2"
   ]
  },
  {
   "cell_type": "code",
   "execution_count": 36,
   "id": "a3274545",
   "metadata": {},
   "outputs": [],
   "source": [
    "#Cette fonction permet de reetiqueter le corpus original par le lexique\n",
    "def Reetiqueter_corpus(corpus,lexique):\n",
    "    corpus0=[] # La liste dans la quelle on va stoker le nouveau corpus\n",
    "    for etq in corpus:\n",
    "        corpus0.append((etq[0],lexique[etq[0]]))# Modifier l'étiquette de corpus par l'étiquette dans le lexique\n",
    "    return corpus0"
   ]
  },
  {
   "cell_type": "code",
   "execution_count": 37,
   "id": "988a31a1",
   "metadata": {},
   "outputs": [
    {
     "name": "stdout",
     "output_type": "stream",
     "text": [
      "[('la', 'PRO'), ('belle', 'ADJ'), ('ferme', 'ADJ'), ('la', 'PRO'), ('porte', 'V'), ('.', 'PONCT'), ('la', 'PRO'), ('belle', 'ADJ'), ('fille', 'N'), ('est', 'COP'), ('ferme', 'ADJ'), ('.', 'PONCT'), ('une', 'DET'), ('belle', 'ADJ'), ('la', 'PRO'), ('porte', 'V'), ('.', 'PONCT'), ('une', 'DET'), ('belle', 'ADJ'), ('fille', 'N'), ('la', 'PRO'), ('porte', 'V'), ('.', 'PONCT'), ('il', 'PRO'), ('la', 'PRO'), ('porte', 'V'), ('.', 'PONCT')]\n"
     ]
    }
   ],
   "source": [
    "corpus_tes=Reetiqueter_corpus(Corpus,lexique)\n",
    "print(corpus_tes)"
   ]
  },
  {
   "cell_type": "code",
   "execution_count": 38,
   "id": "159f624c",
   "metadata": {},
   "outputs": [],
   "source": [
    "#Fonction permet de comparer 2 corpus\n",
    "def Comparer(corpus_ref,corpus_tes):\n",
    "    nbr_erreur=0\n",
    "    for i in range(len(corpus_ref)):\n",
    "        if corpus_ref[i]!=corpus_tes[i]: #Vérifier si les étiquettes de corpus référence sont différentes de corpus teste\n",
    "            nbr_erreur+=1                # Si le cas on incrémente le nombre d'erreurs\n",
    "    return nbr_erreur"
   ]
  },
  {
   "cell_type": "code",
   "execution_count": 39,
   "id": "7292d3fb",
   "metadata": {},
   "outputs": [
    {
     "name": "stdout",
     "output_type": "stream",
     "text": [
      "Nombre d'erreurs 6\n"
     ]
    }
   ],
   "source": [
    "nbr_erreur=Comparer(Corpus,corpus_tes)\n",
    "print(\"Nombre d'erreurs\",nbr_erreur)"
   ]
  },
  {
   "cell_type": "markdown",
   "id": "6efc5c7d",
   "metadata": {},
   "source": [
    "### Exercice 3"
   ]
  },
  {
   "cell_type": "code",
   "execution_count": 40,
   "id": "ecb20bed",
   "metadata": {},
   "outputs": [],
   "source": [
    "#Cette fonction permet d'appliquées les regles sur le corpus test\n",
    "def Appliquer_regle(corpus,ancienne_etq,nouvelle_etq,contexte_gauche,contexte_droit):\n",
    "    nouveau_corpus=[]       # Liste pour stocker le nouveau corpus corrigé\n",
    "    for i in range(len(corpus)):\n",
    "        # Vérifier si l'étiquette courante correspond à l'ancienne étiquette et si les étiquettes de contexte gauche et droit correspondent\n",
    "        if corpus[i][1]==ancienne_etq and (corpus[i+1][1] == contexte_droit or contexte_droit == '*') and (corpus[i-1][1] == contexte_gauche or contexte_gauche == '*'):\n",
    "             nouveau_corpus.append((corpus[i][0],nouvelle_etq)) #Remplacer l'ancienne étiquette par la nouvelle étiquette\n",
    "        else:\n",
    "            nouveau_corpus.append(corpus[i]) # Conserver l'étiquette du corpus tel quel\n",
    "    return nouveau_corpus"
   ]
  },
  {
   "cell_type": "code",
   "execution_count": 41,
   "id": "b9461dba",
   "metadata": {},
   "outputs": [
    {
     "name": "stdout",
     "output_type": "stream",
     "text": [
      "27\n"
     ]
    }
   ],
   "source": [
    "new_corp=Appliquer_regle(corpus_tes,'ADJ', 'N', 'DET', 'PRO')\n",
    "print(len(new_corp))"
   ]
  },
  {
   "cell_type": "code",
   "execution_count": 42,
   "id": "da94b529",
   "metadata": {},
   "outputs": [
    {
     "name": "stdout",
     "output_type": "stream",
     "text": [
      "[('la', 'DET'), ('belle', 'ADJ'), ('ferme', 'ADJ'), ('la', 'PRO'), ('porte', 'V'), ('.', 'PONCT'), ('la', 'DET'), ('belle', 'ADJ'), ('fille', 'N'), ('est', 'COP'), ('ferme', 'ADJ'), ('.', 'PONCT'), ('une', 'DET'), ('belle', 'ADJ'), ('la', 'PRO'), ('porte', 'V'), ('.', 'PONCT'), ('une', 'DET'), ('belle', 'ADJ'), ('fille', 'N'), ('la', 'PRO'), ('porte', 'V'), ('.', 'PONCT'), ('il', 'PRO'), ('la', 'PRO'), ('porte', 'V'), ('.', 'PONCT')]\n"
     ]
    }
   ],
   "source": [
    "new_corp=Appliquer_regle(corpus_tes,'PRO',\"DET\",'*','ADJ')\n",
    "print(new_corp)"
   ]
  },
  {
   "cell_type": "code",
   "execution_count": 43,
   "id": "9d232ec3",
   "metadata": {},
   "outputs": [
    {
     "name": "stdout",
     "output_type": "stream",
     "text": [
      "Nombre d'erreurs 4\n"
     ]
    }
   ],
   "source": [
    "nbr_erreur=Comparer(Corpus,new_corp)\n",
    "print(\"Nombre d'erreurs\",nbr_erreur)"
   ]
  },
  {
   "cell_type": "code",
   "execution_count": 44,
   "id": "8c4cd7e2",
   "metadata": {},
   "outputs": [],
   "source": [
    "# Cette fonction permet de créé les règles à partir de corpus référence et le corpus test\n",
    "def Choix_Regle(corpus_ref, corpus_tes):\n",
    "    regle=[]   # Liste pour stocker les règles\n",
    "    for i in range(len(corpus_ref)):\n",
    "        if corpus_ref[i][1]!=corpus_tes[i][1]: # Vérifier si les étiquettes diffèrent\n",
    "            if i==0: #Si c'est le premier élément du corpus\n",
    "                regle.append((corpus_tes[i][1],corpus_ref[i][1],'*',corpus_tes[i+1][1]))  # Ajouter la règle avec un contexte gauche indéfini\n",
    "            elif i>0 and i<len(corpus_ref)-1:  # Si c'est un élément entre 1 et le taille de corpus - 1\n",
    "                regle.append((corpus_tes[i][1],corpus_ref[i][1],corpus_tes[i-1][1],corpus_tes[i+1][1])) ## Ajouter la règle avec les contextes gauche et droit\n",
    "            elif i==len(corpus_ref)-1:  # Si c'est le dernier élément du corpus\n",
    "                regle.append((corpus_tes[i][1],corpus_ref[i][1],corpus_tes[i-1][1],'*'))   # Ajouter la règle avec un contexte droit indéfini\n",
    "    regle_choisi = max(regle, key=regle.count) #Trouver et retourner la règle la plus fréquente dans la list_regle\n",
    "    return regle_choisi"
   ]
  },
  {
   "cell_type": "code",
   "execution_count": 45,
   "id": "2358a494",
   "metadata": {},
   "outputs": [
    {
     "data": {
      "text/plain": [
       "('PRO', 'DET', '*', 'ADJ')"
      ]
     },
     "execution_count": 45,
     "metadata": {},
     "output_type": "execute_result"
    }
   ],
   "source": [
    "Choix_Regle(Corpus, corpus_tes)"
   ]
  },
  {
   "cell_type": "markdown",
   "id": "c68902e4",
   "metadata": {},
   "source": [
    "### Exercices 4"
   ]
  },
  {
   "cell_type": "code",
   "execution_count": 46,
   "id": "ad676b13",
   "metadata": {},
   "outputs": [],
   "source": [
    "def Generer_regles(corpus_ref, corpus_tes,seuil):\n",
    "    list_regles=[]  # Liste pour stocker les règles\n",
    "    nbr_erreur=Comparer(corpus_ref, corpus_tes) #Retourner le nombre d'erreurs \n",
    "    taux_err = nbr_erreur / len(corpus_tes) # Calculer le taux d'erreur\n",
    "    while(taux_err>seuil): #Si le taux d'erreur est inférieur à un seuil choisit la boucle continue l'exécution\n",
    "        regle=Choix_Regle(corpus_ref, corpus_tes) #Retourner la règle choisie\n",
    "        corpus_tes = Appliquer_regle(corpus_tes,regle[0],regle[1],regle[2],regle[3]) #Appliquer la règle sur le corpus test\n",
    "        nbr_erreur=Comparer(corpus_ref, corpus_tes)\n",
    "        taux_err = nbr_erreur / len(corpus_tes) #Recalculer le taux d'erreur\n",
    "        list_regles.append(regle) # Retourner les règles appliquées sur le corpus teste\n",
    "    return list_regles"
   ]
  },
  {
   "cell_type": "code",
   "execution_count": 47,
   "id": "39c94ec5",
   "metadata": {},
   "outputs": [
    {
     "data": {
      "text/plain": [
       "[('PRO', 'DET', '*', 'ADJ'),\n",
       " ('ADJ', 'V', 'ADJ', 'PRO'),\n",
       " ('PRO', 'DET', 'V', 'V'),\n",
       " ('V', 'N', 'DET', 'PONCT')]"
      ]
     },
     "execution_count": 47,
     "metadata": {},
     "output_type": "execute_result"
    }
   ],
   "source": [
    "Generer_regles(Corpus, corpus_tes,0.07)"
   ]
  },
  {
   "cell_type": "markdown",
   "id": "ae08807c",
   "metadata": {},
   "source": [
    "### Exercice 5"
   ]
  },
  {
   "cell_type": "code",
   "execution_count": 48,
   "id": "05dcd7ae",
   "metadata": {},
   "outputs": [],
   "source": [
    "#Cette fonction d'affectee les étiquettes a un corpus non étiquettée\n",
    "def Affecter_etiq(corpus_tes,lexique):\n",
    "    corpus_etq=[] #Corpus étiquettée\n",
    "    for mot in corpus_tes:\n",
    "        corpus_etq.append((mot,lexique[mot])) #Ajouter le mot avec l'étiquette dans le lexique de meme mot\n",
    "    return corpus_etq"
   ]
  },
  {
   "cell_type": "code",
   "execution_count": 49,
   "id": "32e317ad",
   "metadata": {},
   "outputs": [
    {
     "name": "stdout",
     "output_type": "stream",
     "text": [
      "[('la', 'PRO'), ('belle', 'ADJ'), ('ferme', 'ADJ'), ('la', 'PRO'), ('porte', 'V'), ('.', 'PONCT'), ('la', 'PRO'), ('belle', 'ADJ'), ('fille', 'N'), ('est', 'COP'), ('ferme', 'ADJ'), ('.', 'PONCT'), ('une', 'DET'), ('belle', 'ADJ'), ('la', 'PRO'), ('porte', 'V'), ('.', 'PONCT'), ('une', 'DET'), ('belle', 'ADJ'), ('fille', 'N'), ('la', 'PRO'), ('porte', 'V'), ('.', 'PONCT'), ('il', 'PRO'), ('la', 'PRO'), ('porte', 'V'), ('.', 'PONCT')]\n"
     ]
    }
   ],
   "source": [
    "C=['la','belle','ferme','la',\"porte\",\".\",\"la\",'belle',\"fille\",'est', \"ferme\",'.','une','belle','la',\"porte\",'.','une',\"belle\",\"fille\",\n",
    "'la','porte',\".\",'il','la','porte', '.']\n",
    "print(Affecter_etiq(C,lexique))"
   ]
  },
  {
   "cell_type": "code",
   "execution_count": 50,
   "id": "197d239d",
   "metadata": {},
   "outputs": [],
   "source": [
    "#Permet de retourner un corpus avec des étiquettes corriger avec une liste des régles \n",
    "def Etiquetter_corpus(corpus_tes,lexique,liste_regles):\n",
    "    corpus_tes=Affecter_etiq(corpus_tes,lexique) # Retourner le corpus apres l'affectation d'étiquettes par la fonction Affecter_etiq\n",
    "    for regle in liste_regles:\n",
    "         corpus_tes=Appliquer_regle(corpus_tes,regle[0],regle[1],regle[2],regle[3]) # Appeler la fonction Appliquer_regle pour appliquees les regles retourner par la fonction  Generer_regles\n",
    "    return corpus_tes  "
   ]
  },
  {
   "cell_type": "code",
   "execution_count": 51,
   "id": "72426ddd",
   "metadata": {},
   "outputs": [
    {
     "name": "stdout",
     "output_type": "stream",
     "text": [
      "[('la', 'DET'), ('belle', 'ADJ'), ('ferme', 'V'), ('la', 'DET'), ('porte', 'N'), ('.', 'PONCT'), ('la', 'DET'), ('belle', 'ADJ'), ('fille', 'N'), ('est', 'COP'), ('ferme', 'ADJ'), ('.', 'PONCT'), ('une', 'DET'), ('belle', 'ADJ'), ('la', 'PRO'), ('porte', 'V'), ('.', 'PONCT'), ('une', 'DET'), ('belle', 'ADJ'), ('fille', 'N'), ('la', 'PRO'), ('porte', 'V'), ('.', 'PONCT'), ('il', 'PRO'), ('la', 'PRO'), ('porte', 'V'), ('.', 'PONCT')]\n"
     ]
    }
   ],
   "source": [
    "liste_regles=Generer_regles(Corpus, corpus_tes,0.07)\n",
    "print(Etiquetter_corpus(C,lexique,liste_regles))"
   ]
  },
  {
   "cell_type": "code",
   "execution_count": null,
   "id": "94fa00e6",
   "metadata": {},
   "outputs": [],
   "source": []
  },
  {
   "cell_type": "code",
   "execution_count": null,
   "id": "5d1bff21",
   "metadata": {},
   "outputs": [],
   "source": []
  }
 ],
 "metadata": {
  "kernelspec": {
   "display_name": "Python 3 (ipykernel)",
   "language": "python",
   "name": "python3"
  },
  "language_info": {
   "codemirror_mode": {
    "name": "ipython",
    "version": 3
   },
   "file_extension": ".py",
   "mimetype": "text/x-python",
   "name": "python",
   "nbconvert_exporter": "python",
   "pygments_lexer": "ipython3",
   "version": "3.9.7"
  }
 },
 "nbformat": 4,
 "nbformat_minor": 5
}
