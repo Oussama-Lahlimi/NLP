{
 "cells": [
  {
   "cell_type": "markdown",
   "id": "51e3b963",
   "metadata": {},
   "source": [
    "# "
   ]
  },
  {
   "cell_type": "code",
   "execution_count": 1,
   "id": "a28fdc8a",
   "metadata": {},
   "outputs": [
    {
     "name": "stdout",
     "output_type": "stream",
     "text": [
      "La séquence d'états cachés la plus probable est : ['Soleil', 'Soleil', 'Soleil']\n",
      "Avec une probabilité maximale de : 0.006912000000000001\n"
     ]
    }
   ],
   "source": [
    "def viterbi(obs, states, start_p, trans_p, emit_p):\n",
    "    V = [{}]  # Liste pour stocker les probabilités intermédiaires\n",
    "    path = {}  # Dictionnaire pour stocker les chemins optimaux\n",
    "\n",
    "    # Étape d'initialisation\n",
    "    for state in states:\n",
    "        # Calcul de la probabilité de l'état caché initial * probabilité d'émission de la première observation\n",
    "        V[0][state] = start_p[state] * emit_p[state][obs[0]]\n",
    "        path[state] = [state]  # Initialisation du chemin avec l'état caché initial\n",
    "\n",
    "    # Étape de récursion\n",
    "    for t in range(1, len(obs)):\n",
    "        V.append({})  # Ajout d'un dictionnaire vide pour le nouvel instant de temps\n",
    "        new_path = {}  # Dictionnaire pour stocker les nouveaux chemins optimaux à cet instant de temps\n",
    "\n",
    "        for current_state in states:\n",
    "            # Calcul de la probabilité maximale et de l'état précédent pour chaque état courant\n",
    "            (prob, prev_state) = max(\n",
    "                (V[t-1][prev_state] * trans_p[prev_state][current_state] * emit_p[current_state][obs[t]], prev_state)\n",
    "                for prev_state in states\n",
    "            )\n",
    "\n",
    "            # Stockage de la probabilité maximale pour l'état courant à l'instant de temps t\n",
    "            V[t][current_state] = prob\n",
    "\n",
    "            # Mise à jour du chemin optimal pour l'état courant à l'instant de temps t\n",
    "            new_path[current_state] = path[prev_state] + [current_state]\n",
    "\n",
    "        path = new_path  # Mettre à jour le chemin global avec les nouveaux chemins optimaux\n",
    "\n",
    "    # Étape de terminaison\n",
    "    (prob, state) = max((V[len(obs) - 1][final_state], final_state) for final_state in states)\n",
    "\n",
    "    return prob, path[state]\n",
    "\n",
    "# Exemple d'utilisation\n",
    "if __name__ == '__main__':\n",
    "    # Définition des états cachés\n",
    "    states = ('Soleil', 'Pluie')\n",
    "\n",
    "    # Matrice de transition\n",
    "    transition_probability = {\n",
    "        'Soleil': {'Soleil': 0.8, 'Pluie': 0.2},\n",
    "        'Pluie': {'Soleil': 0.4, 'Pluie': 0.6},\n",
    "    }\n",
    "\n",
    "    # Matrice d'émission\n",
    "    emission_probability = {\n",
    "        'Soleil': {'Marcher': 0.6, 'Courir': 0.1, 'Lire': 0.3},\n",
    "        'Pluie': {'Marcher': 0.2, 'Courir': 0.7, 'Lire': 0.1},\n",
    "    }\n",
    "\n",
    "    # Probabilités initiales\n",
    "    start_probability = {'Soleil': 0.6, 'Pluie': 0.4}\n",
    "\n",
    "    # Séquence d'observations\n",
    "    observations = ['Marcher', 'Courir', 'Lire']\n",
    "\n",
    "    prob, path = viterbi(observations, states, start_probability, transition_probability, emission_probability)\n",
    "\n",
    "    print(\"La séquence d'états cachés la plus probable est :\", path)\n",
    "    print(\"Avec une probabilité maximale de :\", prob)\n"
   ]
  },
  {
   "cell_type": "code",
   "execution_count": null,
   "id": "d7d71ecb",
   "metadata": {},
   "outputs": [],
   "source": []
  }
 ],
 "metadata": {
  "kernelspec": {
   "display_name": "Python 3 (ipykernel)",
   "language": "python",
   "name": "python3"
  },
  "language_info": {
   "codemirror_mode": {
    "name": "ipython",
    "version": 3
   },
   "file_extension": ".py",
   "mimetype": "text/x-python",
   "name": "python",
   "nbconvert_exporter": "python",
   "pygments_lexer": "ipython3",
   "version": "3.9.13"
  }
 },
 "nbformat": 4,
 "nbformat_minor": 5
}
