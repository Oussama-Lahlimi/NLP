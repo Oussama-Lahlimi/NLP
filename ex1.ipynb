{
 "cells": [
  {
   "cell_type": "code",
   "execution_count": 1,
   "id": "88f160f1",
   "metadata": {},
   "outputs": [],
   "source": [
    "Corpus= [('la', 'DET'), ('belle', 'ADJ'), ('ferme', 'V'), ('la', \"DET\"), (\"porte\", 'N'), (\".\", \"PONCT\"), (\"la\",'DET'), ('belle','ADJ'),\n",
    "    (\"fille\", 'N'), ('est', \"COP\"), (\"ferme\",\"ADJ\"), ('.', \"PONCT\"), ('une','DET'),\n",
    "('belle','N'), ('la','PRO'), (\"porte\",'V'), ('.', \"PONCT\"), ('une','DET'), (\"belle\",\"ADJ\"), (\"fille\",\"N\"),\n",
    "('la','PRO'), ('porte','V'), (\".\", 'PONCT'), ('il','PRO'), ('la',\"PRO\"), ('porte','V'), ('.', \"PONCT\")]"
   ]
  },
  {
   "cell_type": "code",
   "execution_count": 2,
   "id": "efd17d80",
   "metadata": {},
   "outputs": [],
   "source": [
    "def Etiquettes(corpus):\n",
    "    my_dict = {}\n",
    "    sub_dict={}\n",
    "    for etq in corpus:\n",
    "        corp_etq=(etq,corpus.count(etq))\n",
    "        if etq[0] not in my_dict:\n",
    "            sub_dict[etq[1]]=corpus.count(etq)\n",
    "            my_dict[etq[0]]=sub_dict\n",
    "            sub_dict = {}\n",
    "        else:\n",
    "            sub_dict=my_dict[etq[0]]\n",
    "            sub_dict[etq[1]]=corpus.count(etq)\n",
    "            sub_dict = {}\n",
    "    return my_dict"
   ]
  },
  {
   "cell_type": "code",
   "execution_count": 3,
   "id": "ca668311",
   "metadata": {},
   "outputs": [
    {
     "data": {
      "text/plain": [
       "{'la': {'DET': 3, 'PRO': 3},\n",
       " 'belle': {'ADJ': 3, 'N': 1},\n",
       " 'ferme': {'V': 1, 'ADJ': 1},\n",
       " 'porte': {'N': 1, 'V': 3},\n",
       " '.': {'PONCT': 5},\n",
       " 'fille': {'N': 2},\n",
       " 'est': {'COP': 1},\n",
       " 'une': {'DET': 2},\n",
       " 'il': {'PRO': 1}}"
      ]
     },
     "execution_count": 3,
     "metadata": {},
     "output_type": "execute_result"
    }
   ],
   "source": [
    "Etiquettes(Corpus)"
   ]
  },
  {
   "cell_type": "code",
   "execution_count": 4,
   "id": "824cef15",
   "metadata": {},
   "outputs": [],
   "source": [
    "def choix_Etiquette(dict_etq):\n",
    "    for key, value in dict_etq.items():\n",
    "        if value == max(dict_etq.values()):\n",
    "            etq=key\n",
    "    return etq"
   ]
  },
  {
   "cell_type": "code",
   "execution_count": 5,
   "id": "e01106c5",
   "metadata": {},
   "outputs": [],
   "source": [
    "def Apprendre_lexique(corpus):\n",
    "    dict_lexique=Etiquettes(corpus)\n",
    "    my_dict={}\n",
    "    keys = list(dict_lexique.keys())\n",
    "    for k in keys:\n",
    "        my_dict[k]=choix_Etiquette(dict_lexique[k])\n",
    "    lexique=my_dict\n",
    "    return lexique"
   ]
  },
  {
   "cell_type": "code",
   "execution_count": 6,
   "id": "c50b93ce",
   "metadata": {},
   "outputs": [
    {
     "name": "stdout",
     "output_type": "stream",
     "text": [
      "Le lexique obtenu est alors: {'la': 'PRO', 'belle': 'ADJ', 'ferme': 'ADJ', 'porte': 'V', '.': 'PONCT', 'fille': 'N', 'est': 'COP', 'une': 'DET', 'il': 'PRO'}\n"
     ]
    }
   ],
   "source": [
    "lexique=Apprendre_lexique(Corpus)\n",
    "print(\"Le lexique obtenu est alors:\",lexique)"
   ]
  },
  {
   "cell_type": "code",
   "execution_count": null,
   "id": "1012147a",
   "metadata": {},
   "outputs": [],
   "source": []
  }
 ],
 "metadata": {
  "kernelspec": {
   "display_name": "Python 3 (ipykernel)",
   "language": "python",
   "name": "python3"
  },
  "language_info": {
   "codemirror_mode": {
    "name": "ipython",
    "version": 3
   },
   "file_extension": ".py",
   "mimetype": "text/x-python",
   "name": "python",
   "nbconvert_exporter": "python",
   "pygments_lexer": "ipython3",
   "version": "3.9.7"
  }
 },
 "nbformat": 4,
 "nbformat_minor": 5
}
