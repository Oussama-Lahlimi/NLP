{
 "cells": [
  {
   "cell_type": "code",
   "execution_count": 13,
   "id": "489b00d0",
   "metadata": {},
   "outputs": [],
   "source": [
    "etats = ('NNP', 'MD','VB','JJ','NN','RB','DT')\n",
    "\n",
    "proba_0 = {'NNP': 0.2767,'MD': 0.0006,'VB':0.0031,'JJ':0.0453,'NN':0.0449,'RB':0.0510,'DT':0.2026\n",
    "}\n",
    "\n",
    "trans_prob = {\n",
    "    'NNP':{'NNP': 0.3777,'MD': 0.0110,'VB':0.0009,'JJ':0.0084,'NN':0.0584,'RB':0.0090,'DT':0.0025},\n",
    "    'MD':{'NNP': 0.0008,'MD': 0.0002,'VB':0.7968,'JJ':0.0005,'NN':0.0008,'RB':0.1698,'DT':0.0014},\n",
    "    'VB':{'NNP': 0.0322,'MD': 0.0005,'VB':0.0050,'JJ':0.0837,'NN':0.0615,'RB':0.0514,'DT':0.2231},\n",
    "    'JJ':{'NNP': 0.0366,'MD': 0.0004,'VB':0.0001,'JJ':0.0753,'NN':0.4509,'RB':0.0036,'DT':0.0036},\n",
    "    'NN':{'NNP': 0.0096,'MD': 0.0176,'VB':0.0014,'JJ':0.0086,'NN':0.1216,'RB':0.0177,'DT':0.0068},\n",
    "    'RB':{'NNP': 0.0068,'MD': 0.0102,'VB':0.1011,'JJ':0.1012,'NN':0.0120,'RB':0.0728,'DT':0.0479},\n",
    "    'DT':{'NNP': 0.1147,'MD': 0.0021,'VB':0.0002,'JJ':0.2157,'NN':0.4744,'RB':0.0102,'DT':0.0017}\n",
    "}\n",
    "\n",
    "vrais_prob = {\n",
    "    'NNP': {'Janet': 0.000032, 'will': 0.0, 'back': 0.0, 'the': 0.000048, 'bill': 0.0},\n",
    "    'MD': {'Janet': 0.0, 'will': 0.308431, 'back': 0.0, 'the': 0.0, 'bill': 0.0},\n",
    "    'VB': {'Janet': 0.0, 'will': 0.000028, 'back': 0.000672, 'the': 0.0, 'bill': 0.000028},\n",
    "    'JJ': {'Janet': 0.0, 'will': 0.000028, 'back': 0.000340, 'the': 0.0, 'bill': 0.0},\n",
    "    'NN': {'Janet': 0.0, 'will': 0.000200, 'back': 0.000223, 'the': 0.0, 'bill': 0.002337},\n",
    "    'RB': {'Janet': 0.0, 'will': 0.0, 'back': 0.010446, 'the': 0.0, 'bill': 0.0},\n",
    "    'DT': {'Janet': 0.0, 'will': 0.0, 'back': 0.0, 'the': 0.506099, 'bill': 0.0},\n",
    "\n",
    "}\n",
    "\n",
    "obser = ['Janet', 'will', 'back', 'the', 'bill']"
   ]
  },
  {
   "cell_type": "code",
   "execution_count": 14,
   "id": "26424211",
   "metadata": {},
   "outputs": [],
   "source": [
    "# Cette fonction permet d'nitialise la matrice V pour stocker les probabilités et les états précédents\n",
    "def viterbi_initialisation(etats, proba_0, vrais_prob, obs):\n",
    "    V = [{}] # Crée V comme une liste contenant un dictionnaire pour la première observation\n",
    "    for i in etats:\n",
    "        # Pour chaque état, calcule la probabilité initiale\n",
    "        # et stocke la probabilité et l'état précédent dans V \n",
    "        V[0][i] = {\"prob\": proba_0[i] * vrais_prob[i][obser[0]], \"prev\": None}  \n",
    "    return V"
   ]
  },
  {
   "cell_type": "code",
   "execution_count": 15,
   "id": "1987bbc5",
   "metadata": {},
   "outputs": [],
   "source": [
    "# Cette fonction permet de remplit de manière récursive la matrice V pour les observations suivantes   \n",
    "def viterbi_remplissage_V(V, etats, trans_p, emit_p, obs):\n",
    "    for t in range(1, len(obser)):\n",
    "        V.append({}) # Ajoute un nouveau dictionnaire pour l'observation courante\n",
    "        for i in etats:\n",
    "            # Trouve la meilleure probabilité de transition depuis les états précédents\n",
    "            max_prob = max(V[t-1][prev_etiq][\"prob\"]*trans_prob[prev_etiq][i] for prev_etiq in etats)\n",
    "            for prev_etiq in etats:\n",
    "                # Met à jour V avec la nouvelle probabilité et l'état précédent\n",
    "                if V[t-1][prev_etiq][\"prob\"] * trans_prob[prev_etiq][i] == max_prob:\n",
    "                    max_prob = max_prob * vrais_prob[i][obser[t]]\n",
    "                    V[t][i] = {\"prob\": max_prob, \"prev\": prev_etiq}\n",
    "                    break\n",
    "    return V"
   ]
  },
  {
   "cell_type": "code",
   "execution_count": 16,
   "id": "67335409",
   "metadata": {},
   "outputs": [],
   "source": [
    "# Cette fonction permet de retrouve le chemin optimal dans V            \n",
    "def viterbi_output(V):\n",
    "    opt = [] # la liste qui va contenir le chemin optimal \n",
    "    # Trouve la probabilité finale maximale et l'état final correspondant\n",
    "    max_prob = max(value[\"prob\"] for value in V[-1].values())  \n",
    "    previous = None\n",
    "    for st, data in V[-1].items():\n",
    "        if data[\"prob\"] == max_prob:\n",
    "            opt.append(st) \n",
    "            previous = st\n",
    "            break\n",
    "    # Retourne en arrière pour trouver les états précédents optimaux\n",
    "    for t in range(len(V) - 2, -1, -1):\n",
    "        opt.insert(0, V[t + 1][previous][\"prev\"])\n",
    "        previous = V[t + 1][previous][\"prev\"]\n",
    "\n",
    "    return opt\n",
    "                "
   ]
  },
  {
   "cell_type": "code",
   "execution_count": 17,
   "id": "08d7f690",
   "metadata": {},
   "outputs": [],
   "source": [
    "#La fonction globale\n",
    "def viterbi(obser, etats, proba_0, trans_prob, vrais_prob):\n",
    "    chm_pp={}# dictionnaire de mot avec l'étiquette la plus probable\n",
    "    V = viterbi_initialisation( etats,  proba_0, vrais_prob, obser)\n",
    "    V = viterbi_remplissage_V(V, etats, trans_prob, vrais_prob, obser)\n",
    "    opt = viterbi_output(V)\n",
    "    for obs,et in zip(obser,opt):\n",
    "        chm_pp[obs]=et\n",
    "    return chm_pp"
   ]
  },
  {
   "cell_type": "code",
   "execution_count": 18,
   "id": "0b1bc67e",
   "metadata": {},
   "outputs": [
    {
     "name": "stdout",
     "output_type": "stream",
     "text": [
      "Le chemin le plus probable est :  {'Janet': 'NNP', 'will': 'MD', 'back': 'VB', 'the': 'DT', 'bill': 'NN'}\n"
     ]
    }
   ],
   "source": [
    "chemin= viterbi(obser, etats, proba_0, trans_prob, vrais_prob)\n",
    "print(\"Le chemin le plus probable est : \",chemin)"
   ]
  },
  {
   "cell_type": "code",
   "execution_count": null,
   "id": "97d536bd",
   "metadata": {},
   "outputs": [],
   "source": []
  }
 ],
 "metadata": {
  "kernelspec": {
   "display_name": "Python 3 (ipykernel)",
   "language": "python",
   "name": "python3"
  },
  "language_info": {
   "codemirror_mode": {
    "name": "ipython",
    "version": 3
   },
   "file_extension": ".py",
   "mimetype": "text/x-python",
   "name": "python",
   "nbconvert_exporter": "python",
   "pygments_lexer": "ipython3",
   "version": "3.9.7"
  }
 },
 "nbformat": 4,
 "nbformat_minor": 5
}
