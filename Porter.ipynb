{
 "cells": [
  {
   "cell_type": "code",
   "execution_count": 43,
   "id": "8d1e4e3a",
   "metadata": {},
   "outputs": [],
   "source": [
    "voy=['a','e','u','i','o','y']"
   ]
  },
  {
   "cell_type": "code",
   "execution_count": 79,
   "id": "dde1cd98",
   "metadata": {},
   "outputs": [],
   "source": [
    "#fonction permet de calcule la mesure de tous le mot\n",
    "def mesure_mot(mot):\n",
    "    chaine=''    # Variable pour stocker la chaîne de caractères résultante\n",
    "    for w in range(len(mot)) :\n",
    "        if mot[w] in voy:   # Vérifie si le caractère est une voyelle\n",
    "            chaine+='v'    # Ajoute 'v' à la chaîne si le caractère est une voyelle\n",
    "        elif mot[w]==\"y\" and mot[w-1] not in voy:  # Vérifie si le caractère est 'y' et le précédent n'est pas une voyelle\n",
    "            chaine+='v'   # Ajoute 'v' à la chaîne si les conditions sont vérifiées\n",
    "        else:\n",
    "            chaine+='c'  # Ajoute 'c' à la chaîne pour les consonnes\n",
    "    return chaine,chaine.count('vc')  # Retourne la chaîne résultante et le nombre de 'vc' présents     \n",
    "            "
   ]
  },
  {
   "cell_type": "code",
   "execution_count": 80,
   "id": "10d65672",
   "metadata": {},
   "outputs": [
    {
     "data": {
      "text/plain": [
       "('ccvvccvcvc', 3)"
      ]
     },
     "execution_count": 80,
     "metadata": {},
     "output_type": "execute_result"
    }
   ],
   "source": [
    "mesure_mot(\"troublitan\")"
   ]
  },
  {
   "cell_type": "code",
   "execution_count": 81,
   "id": "0fe3cca7",
   "metadata": {},
   "outputs": [],
   "source": [
    "def etape1a(mot):\n",
    "    if mot.endswith('sses') or mot.endswith('ies'): # Vérifie si le mot se termine par 'sses' ou 'ies'\n",
    "        return mot[:-2]      # Retourne le mot sans les deux derniers caractères\n",
    "    elif mot.endswith('s') and \"ss\"!=mot[-2:]:  # Vérifie si le mot se termine par 's' et les deux derniers caractères ne sont pas 'ss'\n",
    "        return mot[:-1]    # Retourne le mot sans le dernier caractère\n",
    "    return mot"
   ]
  },
  {
   "cell_type": "code",
   "execution_count": 102,
   "id": "4c8f2ff1",
   "metadata": {},
   "outputs": [
    {
     "data": {
      "text/plain": [
       "'ti'"
      ]
     },
     "execution_count": 102,
     "metadata": {},
     "output_type": "execute_result"
    }
   ],
   "source": [
    "etape1a(\"ties\")"
   ]
  },
  {
   "cell_type": "code",
   "execution_count": 103,
   "id": "576d35c6",
   "metadata": {},
   "outputs": [],
   "source": [
    "def etape1b(mot):\n",
    "    if mot.endswith('eed'):  # Vérifie si le mot se termine par 'eed'\n",
    "        word = mot[:-3]  # Extrait le mot sans les trois derniers caractères\n",
    "        if mesure_mot(word)[1] > 0:  # Vérifie si la mesure du mot sans les trois derniers caractères est supérieure à 0\n",
    "            return mot[:-1]  # Retourne le mot sans le dernier caractère\n",
    "        else:\n",
    "            return mot  # Retourne le mot inchangé si la mesure est inférieure ou égale à 0\n",
    "    elif mot.endswith('ed'):  # Vérifie si le mot se termine par 'ed'\n",
    "        word = mot[:-2]  # Extrait le mot sans les deux derniers caractères\n",
    "        if mesure_mot(word)[1] > 0:  # Vérifie si la mesure du mot sans les deux derniers caractères est supérieure à 0\n",
    "            return mot[:-2]  # Retourne le mot sans les deux derniers caractères\n",
    "        else:\n",
    "            return mot  # Retourne le mot inchangé si la mesure est inférieure ou égale à 0\n",
    "    elif mot.endswith('ing'):  # Vérifie si le mot se termine par 'ing'\n",
    "        word = mot[:-3]  # Extrait le mot sans les trois derniers caractères\n",
    "        if mesure_mot(word)[1] > 0:  # Vérifie si la mesure du mot sans les trois derniers caractères est supérieure à 0\n",
    "            return mot[:-3]  # Retourne le mot sans les trois derniers caractères\n",
    "        else:\n",
    "            return mot  # Retourne le mot inchangé si la mesure est inférieure ou égale à 0\n",
    "    return mot \n"
   ]
  },
  {
   "cell_type": "code",
   "execution_count": 104,
   "id": "0862af0a",
   "metadata": {},
   "outputs": [
    {
     "data": {
      "text/plain": [
       "'agree'"
      ]
     },
     "execution_count": 104,
     "metadata": {},
     "output_type": "execute_result"
    }
   ],
   "source": [
    "etape1b(\"agreed\")"
   ]
  },
  {
   "cell_type": "code",
   "execution_count": 105,
   "id": "bad92009",
   "metadata": {},
   "outputs": [],
   "source": [
    "def etapeb2(mot):\n",
    "    if mot[-2:] in ['at','bl','iz']:  # Vérifie si les deux derniers caractères du mot se trouvent dans la liste ['at', 'bl', 'iz']\n",
    "        return mot+'e'  # Ajoute 'e' à la fin du mot\n",
    "    elif mesure_mot(mot)[1]==1 and mesure_mot(mot)[0][-3:]=='cvc' and mot[-1] not in ['w','x','y']: # - La mesure du mot est égale à 1\n",
    "        # - Les trois derniers caractères du mot (mesure_mot(mot)[0]) forment le schéma 'cvc'\n",
    "        # - Le dernier caractère du mot n'est pas 'w', 'x' ou 'y'\n",
    "        return mot+'e'  # Ajoute 'e' à la fin du mot\n",
    "    elif mot[-2]==mot[-1] and mot[-2:] not in ['ss','ll','zz']:\n",
    "          # - Les deux derniers caractères du mot sont identiques\n",
    "        # - Les deux derniers caractères du mot ne sont pas 'ss', 'll' ou 'zz'\n",
    "        return mot[:-1]   # Retourne le mot sans le dernier caractère\n",
    "    elif mot[-2:] in ['ss','ll','zz']: # Vérifie si les deux derniers caractères du mot se trouvent dans la liste ['ss', 'll', 'zz']\n",
    "        return mot  # Retourne le mot inchangé\n",
    "    return mot \n",
    "       "
   ]
  },
  {
   "cell_type": "code",
   "execution_count": 108,
   "id": "753fac13",
   "metadata": {},
   "outputs": [
    {
     "name": "stdout",
     "output_type": "stream",
     "text": [
      "happy\n"
     ]
    }
   ],
   "source": [
    "mot=etape1b(\"happy\")\n",
    "print(mot)\n"
   ]
  },
  {
   "cell_type": "code",
   "execution_count": 109,
   "id": "57107113",
   "metadata": {},
   "outputs": [],
   "source": [
    "def etape1c(mot):\n",
    "    if mot[-1] == 'y' and mesure_mot(mot[:-1])[0].find('v') > 0:\n",
    "        # - Le dernier caractère du mot est 'y'\n",
    "        # - La chaîne de mesure du mot sans le dernier caractère contient la lettre 'v'\n",
    "        mot = mot[:-1] + 'i'  # Remplace le dernier caractère 'y' par 'i'\n",
    "    return mot  \n"
   ]
  },
  {
   "cell_type": "code",
   "execution_count": 114,
   "id": "6ba28613",
   "metadata": {},
   "outputs": [],
   "source": [
    "#cette fonction permet de remplacer le dernier terme\n",
    "def change(mot,term,remp):\n",
    "    if mesure_mot(mot[:-len(term)])[1] > 0: #La mesure du mot sans le terme est supérieure à 0\n",
    "        mot= mot.replace(term,remp) # Remplace du terme par le remplacement\n",
    "        return mot\n",
    "    else:\n",
    "        return mot"
   ]
  },
  {
   "cell_type": "code",
   "execution_count": 115,
   "id": "f6b461cd",
   "metadata": {},
   "outputs": [],
   "source": [
    "#la fonction précédente est applique dans cette etape2\n",
    "def etape2(mot):\n",
    "    if mot.endswith('ational'):\n",
    "        mot = change(mot, 'ational', 'ate')\n",
    "    elif mot.endswith('tional'):\n",
    "        mot = change(mot, 'tional', 'tion')\n",
    "    elif mot.endswith('enci'):\n",
    "        mot = change(mot, 'enci', 'ence')\n",
    "    elif mot.endswith('anci'):\n",
    "        mot = change(mot, 'anci', 'ance')\n",
    "    elif mot.endswith('izer'):\n",
    "        mot = change(mot, 'izer', 'ize')\n",
    "    elif mot.endswith('abli'):\n",
    "        mot = change(mot, 'abli', 'able')\n",
    "    elif mot.endswith('alli'):\n",
    "        mot = change(mot, 'alli', 'al')\n",
    "    elif mot.endswith('entli'):\n",
    "        mot = change(mot, 'entli', 'ent')\n",
    "    elif mot.endswith('eli'):\n",
    "        mot = change(mot, 'eli', 'e')\n",
    "    elif mot.endswith('ousli'):\n",
    "        mot = change(mot, 'ousli', 'ous')\n",
    "    elif mot.endswith('ization'):\n",
    "        mot = change(mot, 'ization', 'ize')\n",
    "    elif mot.endswith('ation'):\n",
    "        mot = change(mot, 'ation', 'ate')\n",
    "    elif mot.endswith('ator'):\n",
    "        mot = change(mot, 'ator', 'ate')\n",
    "    elif mot.endswith('alism'):\n",
    "        mot = change(mot, 'alism', 'al')\n",
    "    elif mot.endswith('iveness'):\n",
    "        mot = change(mot, 'iveness', 'ive')\n",
    "    elif mot.endswith('fulness'):\n",
    "        mot = change(mot, 'fulness', 'ful')\n",
    "    elif mot.endswith('ousness'):\n",
    "        mot = change(mot, 'ousness', 'ous')\n",
    "    elif mot.endswith('aliti'):\n",
    "        mot = change(mot, 'aliti', 'al')\n",
    "    elif mot.endswith('iviti'):\n",
    "        mot = change(mot, 'iviti', 'ive')\n",
    "    elif mot.endswith('biliti'):\n",
    "        mot = change(mot, 'biliti', 'ble')\n",
    "    return mot"
   ]
  },
  {
   "cell_type": "code",
   "execution_count": 124,
   "id": "f86682d3",
   "metadata": {},
   "outputs": [
    {
     "data": {
      "text/plain": [
       "'internate'"
      ]
     },
     "execution_count": 124,
     "metadata": {},
     "output_type": "execute_result"
    }
   ],
   "source": [
    "etape2('international')"
   ]
  },
  {
   "cell_type": "code",
   "execution_count": 116,
   "id": "225874a5",
   "metadata": {},
   "outputs": [],
   "source": [
    "#la fonction précédente est applique dans cette etape3\n",
    "def etape3(mot):\n",
    "    if mot.endswith('icate'):\n",
    "        mot = change(mot, 'icate', 'ic')\n",
    "    elif mot.endswith('ative'):\n",
    "        mot = change(mot, 'ative', '')\n",
    "    elif mot.endswith('alize'):\n",
    "        mot = change(mot, 'alize', 'al')\n",
    "    elif mot.endswith('iciti'):\n",
    "        mot = change(mot, 'iciti', 'ic')\n",
    "    elif mot.endswith('ful'):\n",
    "        mot = change(mot, 'ful', '')\n",
    "    elif mot.endswith('ness'):\n",
    "        mot = change(mot, 'ness', '')\n",
    "    return mot"
   ]
  },
  {
   "cell_type": "code",
   "execution_count": 117,
   "id": "6f5c2a58",
   "metadata": {},
   "outputs": [],
   "source": [
    "#cette fonction permet de remplacer le dernier terme\n",
    "def change_etp4(mot,term,remp):\n",
    "    if mesure_mot(mot[:-len(term)])[1] > 1: #La mesure du mot sans le terme est supérieure à 0\n",
    "        mot= mot.replace(term,remp) # Remplace du terme par le remplacement\n",
    "        return mot\n",
    "    else:\n",
    "        return mot"
   ]
  },
  {
   "cell_type": "code",
   "execution_count": 118,
   "id": "c362f8cf",
   "metadata": {},
   "outputs": [],
   "source": [
    "#la fonction précédente est applique dans cette etape4\n",
    "def etape4(mot):\n",
    "    if mot.endswith('al'):\n",
    "        mot = change_etp4(mot, 'al', '')\n",
    "    elif mot.endswith('ance'):\n",
    "        mot = change_etp4(mot, 'ance', '')\n",
    "    elif mot.endswith('ence'):\n",
    "        mot = change_etp4(mot, 'ence', '')\n",
    "    elif mot.endswith('er'):\n",
    "        mot = change_etp4(mot, 'er', '')\n",
    "    elif mot.endswith('ic'):\n",
    "        mot = change_etp4(mot, 'ic', '')\n",
    "    elif mot.endswith('able'):\n",
    "        mot = change_etp4(mot, 'able', '')\n",
    "    elif mot.endswith('ible'):\n",
    "        mot = change_etp4(mot, 'ible', '')\n",
    "    elif mot.endswith('ant'):\n",
    "        mot = change_etp4(mot, 'ant', '')\n",
    "    elif mot.endswith('ement'):\n",
    "        mot = change_etp4(mot, 'ement', '')\n",
    "    elif mot.endswith('ment'):\n",
    "        mot = change_etp4(mot, 'ment', '')\n",
    "    elif mot.endswith('ent'):\n",
    "        mot = change_etp4(mot, 'ent', '')\n",
    "    elif mot.endswith('ou'):\n",
    "        mot = change_etp4(mot, 'ou', '')\n",
    "    elif mot.endswith('ism'):\n",
    "        mot = change_etp4(mot, 'ism', '')\n",
    "    elif mot.endswith('ate'):\n",
    "        mot = change_etp4(mot, 'ate', '')\n",
    "    elif mot.endswith('iti'):\n",
    "        mot = change_etp4(mot, 'iti', '')\n",
    "    elif mot.endswith('ous'):\n",
    "        mot = change_etp4(mot, 'ous', '')\n",
    "    elif mot.endswith('ive'):\n",
    "        mot = change_etp4(mot, 'ive', '')\n",
    "    elif mot.endswith('ize'):\n",
    "        mot = change_etp4(mot, 'ize', '')\n",
    "    elif mot.endswith('ion'):\n",
    "        m=mot[:-3]\n",
    "        if mesure_mot(m)[1] > 1 and (m[-1]=='s' or m[-1]=='t'):\n",
    "            mot = m\n",
    "    return mot\n"
   ]
  },
  {
   "cell_type": "code",
   "execution_count": 119,
   "id": "a5dc6390",
   "metadata": {},
   "outputs": [],
   "source": [
    "def etape5a(mot):\n",
    "    if mot.endswith('e'):\n",
    "        # Vérifie si le mot se termine par 'e'\n",
    "        if mesure_mot(mot[:-1])[1] > 1:\n",
    "            # Vérifie si la mesure du mot sans le dernier 'e' est supérieure à 1\n",
    "            mot = mot[:-1]  # Supprime le dernier 'e'\n",
    "        elif mesure_mot(mot[:-1])[1] == 1 and (mesure_mot(mot[:-1])[0][:-3] == 'cvc' or mot[-1] not in ['w', 'x', 'y']):\n",
    "            # - La mesure du mot sans le dernier 'e' est égale à 1\n",
    "            # - Le préfixe du mot sans les 3 dernières lettres est 'cvc' (consonne-voyelle-consonne)\n",
    "            #   ou la dernière lettre du mot n'est pas 'w', 'x' ou 'y'\n",
    "            mot = mot[:-1]  # Supprime le dernier 'e'\n",
    "    return mot\n",
    "\n"
   ]
  },
  {
   "cell_type": "code",
   "execution_count": 120,
   "id": "9170bfea",
   "metadata": {},
   "outputs": [],
   "source": [
    "def etape5b(mot):\n",
    "    if mesure_mot(mot)[1] > 1 and mot[-1] == mot[-2] and mot[-1] == 'l':\n",
    "        # - La mesure du mot est supérieure à 1\n",
    "        # - La dernière lettre du mot est identique à l'avant-dernière lettre\n",
    "        # - La dernière lettre du mot est 'l'\n",
    "        mot = mot[:-1]  # Supprime la dernière lettre 'l'\n",
    "    return mot\n"
   ]
  },
  {
   "cell_type": "code",
   "execution_count": 121,
   "id": "625594ab",
   "metadata": {},
   "outputs": [
    {
     "data": {
      "text/plain": [
       "'roll'"
      ]
     },
     "execution_count": 121,
     "metadata": {},
     "output_type": "execute_result"
    }
   ],
   "source": [
    "etape5b('roll')"
   ]
  },
  {
   "cell_type": "code",
   "execution_count": null,
   "id": "0ec3a145",
   "metadata": {},
   "outputs": [],
   "source": []
  }
 ],
 "metadata": {
  "kernelspec": {
   "display_name": "Python 3 (ipykernel)",
   "language": "python",
   "name": "python3"
  },
  "language_info": {
   "codemirror_mode": {
    "name": "ipython",
    "version": 3
   },
   "file_extension": ".py",
   "mimetype": "text/x-python",
   "name": "python",
   "nbconvert_exporter": "python",
   "pygments_lexer": "ipython3",
   "version": "3.9.7"
  }
 },
 "nbformat": 4,
 "nbformat_minor": 5
}
