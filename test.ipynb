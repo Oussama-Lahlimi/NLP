{
 "cells": [
  {
   "cell_type": "code",
   "execution_count": 20,
   "id": "555e7341",
   "metadata": {},
   "outputs": [],
   "source": [
    "from collections import defaultdict\n",
    "\n",
    "def initialiser_etiqueteur(corpus):\n",
    "    etiqueteur = defaultdict(lambda: defaultdict(int))\n",
    "    print(etiqueteur)\n",
    "    for mot, etiquette in corpus:\n",
    "        etiqueteur[mot][etiquette] += 1\n",
    "    \n",
    "    return etiqueteur\n"
   ]
  },
  {
   "cell_type": "code",
   "execution_count": 21,
   "id": "796b164e",
   "metadata": {},
   "outputs": [],
   "source": [
    "Corpus= [('la', 'DET'), ('belle', 'ADJ'), ('ferme', 'V'), ('la', \"DET\"), (\"porte\", 'N'), (\".\", \"PONCT\"), (\"la\",'DET'), ('belle','ADJ'),\n",
    "    (\"fille\", 'N'), ('est', \"COP\"), (\"ferme\",\"ADJ\"), ('.', \"PONCT\"), ('une','DET'),\n",
    "('belle','N'), ('la','PRO'), (\"porte\",'V'), ('.', \"PONCT\"), ('une','DET'), (\"belle\",\"ADJ\"), (\"fille\",\"N\"),\n",
    "('la','PRO'), ('porte','V'), (\".\", 'PONCT'), ('il','PRO'), ('la',\"PRO\"), ('porte','V'), ('.', \"PONCT\")]"
   ]
  },
  {
   "cell_type": "code",
   "execution_count": 22,
   "id": "0979bf55",
   "metadata": {},
   "outputs": [],
   "source": [
    "Corpus.count(('la', 'DET'))\n",
    "def occ_etq(corpus):\n",
    "    list_etq=[]\n",
    "    for etq in corpus:\n",
    "        corp_etq=(etq,corpus.count(etq))\n",
    "        if corp_etq not in list_etq:\n",
    "            list_etq.append(corp_etq)\n",
    "    return list_etq\n",
    "        \n",
    "# def dic(list_etq)    "
   ]
  },
  {
   "cell_type": "code",
   "execution_count": 23,
   "id": "f2ac88cf",
   "metadata": {},
   "outputs": [
    {
     "data": {
      "text/plain": [
       "[(('la', 'DET'), 3),\n",
       " (('belle', 'ADJ'), 3),\n",
       " (('ferme', 'V'), 1),\n",
       " (('porte', 'N'), 1),\n",
       " (('.', 'PONCT'), 5),\n",
       " (('fille', 'N'), 2),\n",
       " (('est', 'COP'), 1),\n",
       " (('ferme', 'ADJ'), 1),\n",
       " (('une', 'DET'), 2),\n",
       " (('belle', 'N'), 1),\n",
       " (('la', 'PRO'), 3),\n",
       " (('porte', 'V'), 3),\n",
       " (('il', 'PRO'), 1)]"
      ]
     },
     "execution_count": 23,
     "metadata": {},
     "output_type": "execute_result"
    }
   ],
   "source": [
    "occ_etq(Corpus)"
   ]
  },
  {
   "cell_type": "code",
   "execution_count": 24,
   "id": "acd096cb",
   "metadata": {},
   "outputs": [
    {
     "ename": "NameError",
     "evalue": "name 'x' is not defined",
     "output_type": "error",
     "traceback": [
      "\u001b[1;31m---------------------------------------------------------------------------\u001b[0m",
      "\u001b[1;31mNameError\u001b[0m                                 Traceback (most recent call last)",
      "\u001b[1;32m~\\AppData\\Local\\Temp/ipykernel_13476/853917601.py\u001b[0m in \u001b[0;36m<module>\u001b[1;34m\u001b[0m\n\u001b[1;32m----> 1\u001b[1;33m \u001b[1;32mif\u001b[0m \u001b[1;34m\"la\"\u001b[0m \u001b[1;32min\u001b[0m \u001b[0mx\u001b[0m\u001b[1;33m:\u001b[0m\u001b[1;33m\u001b[0m\u001b[1;33m\u001b[0m\u001b[0m\n\u001b[0m\u001b[0;32m      2\u001b[0m     \u001b[0mprint\u001b[0m\u001b[1;33m(\u001b[0m\u001b[1;34m'yes'\u001b[0m\u001b[1;33m)\u001b[0m\u001b[1;33m\u001b[0m\u001b[1;33m\u001b[0m\u001b[0m\n",
      "\u001b[1;31mNameError\u001b[0m: name 'x' is not defined"
     ]
    }
   ],
   "source": [
    "if \"la\" in x:\n",
    "    print('yes')"
   ]
  },
  {
   "cell_type": "code",
   "execution_count": 25,
   "id": "b0320034",
   "metadata": {},
   "outputs": [
    {
     "name": "stdout",
     "output_type": "stream",
     "text": [
      "defaultdict(<function initialiser_etiqueteur.<locals>.<lambda> at 0x000002017D3DB820>, {})\n"
     ]
    },
    {
     "data": {
      "text/plain": [
       "defaultdict(<function __main__.initialiser_etiqueteur.<locals>.<lambda>()>,\n",
       "            {'la': defaultdict(int, {'DET': 3, 'PRO': 3}),\n",
       "             'belle': defaultdict(int, {'ADJ': 3, 'N': 1}),\n",
       "             'ferme': defaultdict(int, {'V': 1, 'ADJ': 1}),\n",
       "             'porte': defaultdict(int, {'N': 1, 'V': 3}),\n",
       "             '.': defaultdict(int, {'PONCT': 5}),\n",
       "             'fille': defaultdict(int, {'N': 2}),\n",
       "             'est': defaultdict(int, {'COP': 1}),\n",
       "             'une': defaultdict(int, {'DET': 2}),\n",
       "             'il': defaultdict(int, {'PRO': 1})})"
      ]
     },
     "execution_count": 25,
     "metadata": {},
     "output_type": "execute_result"
    }
   ],
   "source": [
    "initialiser_etiqueteur(Corpus)"
   ]
  },
  {
   "cell_type": "code",
   "execution_count": 26,
   "id": "a61d7b2e",
   "metadata": {},
   "outputs": [],
   "source": [
    "def etiqueter_mot(mot, etiqueteur):\n",
    "    etiquettes = etiqueteur.get(mot)\n",
    "    if etiquettes:\n",
    "        return max(etiquettes, key=etiquettes.get)\n",
    "    else:\n",
    "        return \"UNK\"  # Étiquette pour les mots inconnus (unknown)\n",
    "def etiqueter_corpus(corpus, etiqueteur):\n",
    "    etiquetage = []\n",
    "    \n",
    "    for mot, _ in corpus:\n",
    "        etiquetage.append((mot, etiqueter_mot(mot, etiqueteur)))\n",
    "    \n",
    "    return etiquetage\n",
    "\n",
    "\n"
   ]
  },
  {
   "cell_type": "code",
   "execution_count": 27,
   "id": "e86a5894",
   "metadata": {},
   "outputs": [
    {
     "name": "stdout",
     "output_type": "stream",
     "text": [
      "defaultdict(<function initialiser_etiqueteur.<locals>.<lambda> at 0x000002017CFFA280>, {})\n"
     ]
    },
    {
     "data": {
      "text/plain": [
       "[('la', 'DET'),\n",
       " ('belle', 'ADJ'),\n",
       " ('ferme', 'V'),\n",
       " ('la', 'DET'),\n",
       " ('porte', 'V'),\n",
       " ('.', 'PONCT'),\n",
       " ('la', 'DET'),\n",
       " ('belle', 'ADJ'),\n",
       " ('fille', 'N'),\n",
       " ('est', 'COP'),\n",
       " ('ferme', 'V'),\n",
       " ('.', 'PONCT'),\n",
       " ('une', 'DET'),\n",
       " ('belle', 'ADJ'),\n",
       " ('la', 'DET'),\n",
       " ('porte', 'V'),\n",
       " ('.', 'PONCT'),\n",
       " ('une', 'DET'),\n",
       " ('belle', 'ADJ'),\n",
       " ('fille', 'N'),\n",
       " ('la', 'DET'),\n",
       " ('porte', 'V'),\n",
       " ('.', 'PONCT'),\n",
       " ('il', 'PRO'),\n",
       " ('la', 'DET'),\n",
       " ('porte', 'V'),\n",
       " ('.', 'PONCT')]"
      ]
     },
     "execution_count": 27,
     "metadata": {},
     "output_type": "execute_result"
    }
   ],
   "source": [
    "etiqueter_corpus(Corpus, initialiser_etiqueteur(Corpus))"
   ]
  },
  {
   "cell_type": "code",
   "execution_count": 28,
   "id": "c9147784",
   "metadata": {},
   "outputs": [],
   "source": [
    "def identifier_erreurs(corpus_etiquete, corpus_reference):\n",
    "    erreurs = []\n",
    "    \n",
    "    for (mot_etiquete, etiquette_etiquete), (mot_reference, etiquette_reference) in zip(corpus_etiquete, corpus_reference):\n",
    "        if etiquette_etiquete != etiquette_reference:\n",
    "            erreurs.append((mot_etiquete, etiquette_etiquete, etiquette_reference))\n",
    "    \n",
    "    return erreurs\n"
   ]
  },
  {
   "cell_type": "code",
   "execution_count": 31,
   "id": "4101d8bc",
   "metadata": {},
   "outputs": [],
   "source": [
    "def occ_etq(corpus):\n",
    "    my_dict = {}\n",
    "    sub_dict={}\n",
    "    for etq in corpus:\n",
    "        corp_etq=(etq,corpus.count(etq))\n",
    "        if etq[0] not in my_dict:\n",
    "            sub_dict[etq[1]]=corpus.count(etq)\n",
    "            my_dict[etq[0]]=sub_dict\n",
    "            sub_dict = {}\n",
    "        else:\n",
    "            sub_dict=my_dict[etq[0]]\n",
    "            sub_dict[etq[1]]=corpus.count(etq)\n",
    "            sub_dict = {}\n",
    "    return my_dict"
   ]
  },
  {
   "cell_type": "code",
   "execution_count": 32,
   "id": "9ae6453d",
   "metadata": {},
   "outputs": [
    {
     "data": {
      "text/plain": [
       "{'la': {'DET': 3, 'PRO': 3},\n",
       " 'belle': {'ADJ': 3, 'N': 1},\n",
       " 'ferme': {'V': 1, 'ADJ': 1},\n",
       " 'porte': {'N': 1, 'V': 3},\n",
       " '.': {'PONCT': 5},\n",
       " 'fille': {'N': 2},\n",
       " 'est': {'COP': 1},\n",
       " 'une': {'DET': 2},\n",
       " 'il': {'PRO': 1}}"
      ]
     },
     "execution_count": 32,
     "metadata": {},
     "output_type": "execute_result"
    }
   ],
   "source": [
    "occ_etq(Corpus)"
   ]
  },
  {
   "cell_type": "code",
   "execution_count": 6,
   "id": "8cd14a73",
   "metadata": {},
   "outputs": [],
   "source": [
    "bn=dic['d']"
   ]
  },
  {
   "cell_type": "code",
   "execution_count": 7,
   "id": "3df31b4a",
   "metadata": {},
   "outputs": [],
   "source": [
    "bn['v']='m'"
   ]
  },
  {
   "cell_type": "code",
   "execution_count": 8,
   "id": "0d667ef5",
   "metadata": {},
   "outputs": [
    {
     "name": "stdout",
     "output_type": "stream",
     "text": [
      "{'s': 'c', 'v': 'm'}\n"
     ]
    }
   ],
   "source": [
    "print(dic['d'])"
   ]
  },
  {
   "cell_type": "code",
   "execution_count": null,
   "id": "16bfcbcf",
   "metadata": {},
   "outputs": [],
   "source": []
  }
 ],
 "metadata": {
  "kernelspec": {
   "display_name": "Python 3 (ipykernel)",
   "language": "python",
   "name": "python3"
  },
  "language_info": {
   "codemirror_mode": {
    "name": "ipython",
    "version": 3
   },
   "file_extension": ".py",
   "mimetype": "text/x-python",
   "name": "python",
   "nbconvert_exporter": "python",
   "pygments_lexer": "ipython3",
   "version": "3.9.7"
  }
 },
 "nbformat": 4,
 "nbformat_minor": 5
}
