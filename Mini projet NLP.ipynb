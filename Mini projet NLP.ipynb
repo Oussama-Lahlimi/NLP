{
 "cells": [
  {
   "cell_type": "markdown",
   "id": "eb3bd69c",
   "metadata": {},
   "source": [
    "<B><font color='red' size='20pt' face=\" Times New Roman\">Mini projet I </font></B>"
   ]
  },
  {
   "cell_type": "code",
   "execution_count": 9,
   "id": "06d3f858",
   "metadata": {},
   "outputs": [],
   "source": [
    "#liste qui contient toutes les abréviations possibles les individus.\n",
    "abrev=['M.','Mr.','Mme.','Dr.','Pr.','Me.','St.','Ste.','Sr.','Fr','Rev.','P.','Ph.D.','Rep.','Sen.','Prof.','Maj.'\n",
    "       ,'Capt.','Gov.','Lt.','Adm.','Gen.','Sgt.','Col.','RN.','CEO.','CFO.','COO.','VP.']\n",
    "#liste qui contient les caractères spécifiques.\n",
    "marks = [\".\", \",\", \";\", \":\", \"!\", \"?\", \"...\", \"«\", \"»\", \"(\", \")\", \"[\", \"]\", \"{\", \"}\",\"/\"]\n",
    "#liste des pronoms\n",
    "pro=['le','la','de','du','je','ne','ni','te','se','si','ce','me','qui','que','quelque','lorsque','puisque','quoique','jusque']\n",
    "#liste des voyelles\n",
    "voy=['a','e','y','u','i','o','h']\n",
    "#liste des contraction\n",
    "contraction={'à le':'au','à les':'aux','de le':'du','de les':'des','de des':'de','en le':'au','en les':'aux'}"
   ]
  },
  {
   "cell_type": "markdown",
   "id": "fcb907c8",
   "metadata": {},
   "source": [
    "<B><font color='green' size='10pt' face=\" Times New Roman\">Exercice I </font></B>"
   ]
  },
  {
   "cell_type": "code",
   "execution_count": 10,
   "id": "49b8ee7f",
   "metadata": {},
   "outputs": [],
   "source": [
    "def add_sepr(text):\n",
    "    # Divise la chaîne en une liste de mots\n",
    "    liste=text.split()\n",
    "    for i in range(len(liste)):\n",
    "        # Vérifie si le mot est dans la liste d'abréviations\n",
    "        if liste[i] in abrev:\n",
    "            #si le cas on ajoute le caractère \"|\" à la fin du mot\n",
    "            liste[i]=liste[i]+\"|\"\n",
    "    # Rejoint les mots en utilisant un espace comme séparateur\n",
    "    new_text=' '.join(liste)\n",
    "    return new_text #retourne la nouvelle chaine"
   ]
  },
  {
   "cell_type": "code",
   "execution_count": 51,
   "id": "3715c96e",
   "metadata": {},
   "outputs": [],
   "source": [
    "def dcp_text(text):\n",
    "    li=[] # Liste pour stocker les phrases\n",
    "    k=0  # Variable de suivi de la position de phrases\n",
    "    for i in range(len(text)-2):\n",
    "        if text[i:i+3] in [\". \"+text[i+2].upper(),\"! \"+text[i+2].upper(),\"? \"+text[i+2].upper(),\"; \"+text[i+2].upper()]or (text[i]==\"\\n\" and text[i+1].isupper()):\n",
    "            # Vérifier si \". \", \"! \", \"? \", \"; \" suivi d'une majuscule est trouvé\n",
    "            # ou si un retour à la ligne suivi d'une majuscule est trouvé\n",
    "            li.append(text[k:i+1]) #si le cas on ajouter la partie découpée à la liste qui est une phrase \n",
    "            k=i+1 # Mettre à jour la position de phrases\n",
    "        if i==len(text)-3: #Ajouter la dernière partie découpée à la liste\n",
    "            li.append(text[k:i+3])\n",
    "    return li  "
   ]
  },
  {
   "cell_type": "code",
   "execution_count": 52,
   "id": "f159867c",
   "metadata": {},
   "outputs": [],
   "source": [
    "def del_sepr(liste):\n",
    "    new_list=[] # Liste pour stocker les phrases sans \"|\"\n",
    "    for i in range(len(liste)):\n",
    "        index=liste[i].find('|')  # Recherche de l'indice de \"|\" s'il exist dans la phrase\n",
    "        if index>=0:\n",
    "            rep=liste[i].replace(liste[i][index],\"\") # Remplacement \"|\" par une chaîne vide\n",
    "        else:\n",
    "            rep=liste[i]  # Si \"|\" n'est pas trouvée, la phrase reste inchangé\n",
    "        new_list.append(rep) # Ajout de la phrase modifié à la nouvelle liste\n",
    "    return new_list"
   ]
  },
  {
   "cell_type": "code",
   "execution_count": 53,
   "id": "f23ad105",
   "metadata": {},
   "outputs": [],
   "source": [
    "#fonction qui englobe tout les fonction précédents\n",
    "def segmentation_phrases(text):\n",
    "    new_text=add_sepr(text)\n",
    "    liste_phrases=dcp_text(new_text)\n",
    "    liste_phrases_final=del_sepr(liste_phrases)\n",
    "    return liste_phrases_final"
   ]
  },
  {
   "cell_type": "code",
   "execution_count": 54,
   "id": "5b36a26a",
   "metadata": {},
   "outputs": [],
   "source": [
    "text=\"\"\"Le Dr. Smith est un expert dans son domaine. Il a obtenu son diplôme en informatique à l'univirsite de Stanford. \n",
    "Sa thèse portait sur l'intelligence artificielle. Depuis lors, il travaille comme chercheur dans une entreprise. \n",
    "Ses contributions ont grandement contribué aux avancées de l'IA.\"\"\"\n",
    "text1=\"Le Prof. Dupont est un expert en archéo. Il a découvert de nombreux artefacts anciens. Son travail a révolutionné notre compréhension de humaine!\""
   ]
  },
  {
   "cell_type": "code",
   "execution_count": 55,
   "id": "262aaf23",
   "metadata": {},
   "outputs": [
    {
     "name": "stdout",
     "output_type": "stream",
     "text": [
      "la phrase 1 ['Le Dr. Smith est un expert dans son domaine.', \" Il a obtenu son diplôme en informatique à l'univirsite de Stanford.\", \" Sa thèse portait sur l'intelligence artificielle.\", ' Depuis lors, il travaille comme chercheur dans une entreprise.', \" Ses contributions ont grandement contribué aux avancées de l'IA.\"]\n",
      "------------------------------------------------------------------------------------------------------\n",
      "la phrase 2 ['Le Prof. Dupont est un expert en archéo.', ' Il a découvert de nombreux artefacts anciens.', ' Son travail a révolutionné notre compréhension de humaine!']\n"
     ]
    }
   ],
   "source": [
    "print(\"la phrase 1\",segmentation_phrases(text))\n",
    "print(\"------------------------------------------------------------------------------------------------------\")\n",
    "print(\"la phrase 2\",segmentation_phrases(text1))"
   ]
  },
  {
   "cell_type": "markdown",
   "id": "c158fbad",
   "metadata": {},
   "source": [
    "<B><font color='green' size='10pt' face=\" Times New Roman\">Exercice II </font></B>"
   ]
  },
  {
   "cell_type": "code",
   "execution_count": 33,
   "id": "53b8874b",
   "metadata": {},
   "outputs": [],
   "source": [
    "def frist_seg(text):\n",
    "    liste=text.split(' ') # Divise la chaîne en une liste de mots en utilisant l'espace comme séparateur\n",
    "    new_list=[] # Liste pour stocker les mots modifiés\n",
    "    for mot in liste:\n",
    "        if \"'\" in mot:# Vérifie si le mot contient un apostrophe\n",
    "            new_list.append(mot[:2])# Ajoute le caractère et l'apostrophe\n",
    "            new_list.append(mot[2:])# Ajoute le reste de mot juste après l'apostrophe\n",
    "        elif \".\" in mot and (mot.isupper()) or  mot in abrev:# Vérifie si le mot contient un point et est en majuscules ou fait partie de la liste des abréviations\n",
    "            new_list.append(mot+\"|\")# Ajoute le mot suivi d'un caractère \"|\"\n",
    "        else:\n",
    "            new_list.append(mot)# Ajoute le mot inchangé à la nouvelle liste\n",
    "    return new_list"
   ]
  },
  {
   "cell_type": "code",
   "execution_count": 34,
   "id": "3f89574a",
   "metadata": {},
   "outputs": [],
   "source": [
    "def word_segmentation(phrase):\n",
    "    new_list=[]\n",
    "    liste=frist_seg(phrase)#Utilise le résultat de la fonction frist_seg\n",
    "    for i in liste:\n",
    "        if i[-1] in marks:# Vérifie si le dernier caractère du mot est une marque de ponctuation\n",
    "            new_list.append(i[:i.index(i[-1])]) # Ajoute le segment avant la marque de ponctuation\n",
    "            new_list.append(i[-1])# Ajoute la marque de ponctuation dans la liste\n",
    "        elif i[-1]==\"|\":# Vérifie si le dernier caractère du mot est \"|\"\n",
    "            new_list.append(i.replace(i[-1],\"\"))# Remplacement \"|\" par une chaîne vide\n",
    "        else:\n",
    "            new_list.append(i)# Ajoute le mot inchangé à la liste\n",
    "    return new_list"
   ]
  },
  {
   "cell_type": "code",
   "execution_count": 35,
   "id": "af9bd1bf",
   "metadata": {},
   "outputs": [],
   "source": [
    "phrase = \"Ahmed, vient-t-il jouer dans l'après-midi?\"\n",
    "phrase1=\"Bonjour, je suis Pr. Ahmed j'habite aux U.S.A. et je suis actuellement a la retraite.\""
   ]
  },
  {
   "cell_type": "code",
   "execution_count": 36,
   "id": "a9aef7ee",
   "metadata": {},
   "outputs": [
    {
     "name": "stdout",
     "output_type": "stream",
     "text": [
      "la phrase 1 ['Ahmed', ',', 'vient-t-il', 'jouer', 'dans', \"l'\", 'après-midi', '?']\n",
      "------------------------------------------------------------------------------------------------------\n",
      "la phrase 2 ['Bonjour', ',', 'je', 'suis', 'Pr.', 'Ahmed', \"j'\", 'habite', 'aux', 'U.S.A.', 'et', 'je', 'suis', 'actuellement', 'a', 'la', 'retraite', '.']\n"
     ]
    }
   ],
   "source": [
    "print(\"la phrase 1\",word_segmentation(phrase))\n",
    "print(\"------------------------------------------------------------------------------------------------------\")\n",
    "print(\"la phrase 2\",word_segmentation(phrase1))"
   ]
  },
  {
   "cell_type": "markdown",
   "id": "27dc25a9",
   "metadata": {},
   "source": [
    "<B><font color='green' size='10pt' face=\" Times New Roman\">Exercice III </font></B>"
   ]
  },
  {
   "cell_type": "code",
   "execution_count": 90,
   "id": "563627e5",
   "metadata": {},
   "outputs": [],
   "source": [
    "def generation_phrases(list_w):\n",
    "    chaine=[] #la liste dans là quel on va stocker les mots traiter\n",
    "    word='' # Variable pour stocker les mots modifie dans chaque etapes\n",
    "    for i in range(len(list_w)-1):\n",
    "        if list_w[i].lower() in pro and  list_w[i+1][0]in voy:# Vérifier si le mot actuel est un pronom suivi d'une voyelle\n",
    "            chaine.append(list_w[i][:-1]+\"'\"+list_w[i+1])# On remplace la derniere caractere de pronom par \"'\" + le mot suivi et on les ajoute dans la liste\n",
    "            word=list_w[i]+\" \"+list_w[i+1]# Afficter à word les mot traiter\n",
    "        if list_w[i]+\" \"+list_w[i+1]in contraction:# Vérifier si le mot actuel et le suivant forment une contraction\n",
    "            con=list_w[i]+\" \"+list_w[i+1] # Construire la contraction\n",
    "            chaine.append(contraction[con]) # Ajouter la contraction correspondante d'apres le dictionnaire de contraction\n",
    "            word=con         # Mettre à jour par la nouvelle mot\n",
    "        if list_w[i]=='t' and list_w[i+1]=='il': # Vérifier si le mot actuel est 't' et le suivant est 'il'\n",
    "            con=list_w[i-1]+\"-\"+list_w[i]+\"-\"+list_w[i+1]\n",
    "            index=chaine.index(list_w[i-1]) # Trouver l'index du mot précédent dans la liste\n",
    "            chaine[index]=con             # Remplacer le mot précédent par le mot Concaténer\n",
    "            word=con                    # Mettre à jour par la nouvelle mot\n",
    "        if list_w[i] in marks:         # Vérifier si le mot est une marque de ponctuation \n",
    "            index=chaine.index(chaine[-1])# Trouver l'index de dernier mot stocker dans la liste\n",
    "            con=chaine[-1]+list_w[i]\n",
    "            chaine[index]=con\n",
    "            word=con                 # Mettre à jour par la nouvelle mot\n",
    "        elif list_w[i]not in word:  #Vérifier si le mot actuel n'est pas présent dans word\n",
    "            chaine.append(list_w[i])  #Ajoute le mot a la liste\n",
    "            word=''                 # Réinitialiser de word\n",
    "    if list_w[i+1][-1] not in marks:  # Vérifier si le dernier mot n'est pas suivi d'une marque de ponctuation\n",
    "        chaine.append(list_w[i+1])    # Ajouter le dernier mot à la liste\n",
    "    else:\n",
    "        index=chaine.index(chaine[-1])# Trouver l'index de dernier mot stocker dans la liste\n",
    "        con=chaine[-1]+list_w[i+1]    # Concaténer marque de ponctuation et le mot derniere dans la liste\n",
    "        chaine[index]=con             #Remplacer le mot dernier par le mot concaténer\n",
    "        \n",
    "    return ' '.join(chaine)           # Renvoyer la chaîne générée en rejoignant les segments avec des espaces"
   ]
  },
  {
   "cell_type": "code",
   "execution_count": 91,
   "id": "59699a40",
   "metadata": {},
   "outputs": [],
   "source": [
    "lis_1=['Ahmed',',','vient','t','il','jouer','dans',\"la\",'après-midi','?']"
   ]
  },
  {
   "cell_type": "code",
   "execution_count": 92,
   "id": "5fe3d823",
   "metadata": {},
   "outputs": [],
   "source": [
    "lis_2=['le','homme','à','le','chapeau',',','que','nous','avons','recontre','a','la','fort','sera','t','il','invite',\"aujourd'huit\",'.']\n"
   ]
  },
  {
   "cell_type": "code",
   "execution_count": 103,
   "id": "e3184b23",
   "metadata": {},
   "outputs": [],
   "source": [
    "lis_3=[\"Je\",\"ai\", \"remarqué\" ,\"que\",\"Emma\", \"était\",\"très\",\"talentueuse\",\".\"]\n",
    "lis_4=[\"Que\",\"est-ce\",\"que\",\"une\",\"intelligence\", \"artificielle\",\"?\"]"
   ]
  },
  {
   "cell_type": "code",
   "execution_count": 104,
   "id": "cb24280c",
   "metadata": {},
   "outputs": [
    {
     "name": "stdout",
     "output_type": "stream",
     "text": [
      "la phrase 1:  Ahmed, vient-t-il jouer dans l'après-midi?\n",
      "------------------------------------------------------------------------------------------------------\n",
      "la phrase 2:  l'homme au chapeau, que nous avons recontre a la fort sera-t-il invite aujourd'huit.\n",
      "------------------------------------------------------------------------------------------------------\n",
      "la phrase 2:  J'ai remarqué que Emma était très talentueuse.\n",
      "------------------------------------------------------------------------------------------------------\n",
      "la phrase 2:  Qu'est-ce qu'une intelligence artificielle?\n"
     ]
    }
   ],
   "source": [
    "generation_phrases(lis_3)\n",
    "print(\"la phrase 1: \",generation_phrases(lis_1))\n",
    "print(\"------------------------------------------------------------------------------------------------------\")\n",
    "print(\"la phrase 2: \",generation_phrases(lis_2))\n",
    "print(\"------------------------------------------------------------------------------------------------------\")\n",
    "print(\"la phrase 2: \",generation_phrases(lis_3))\n",
    "print(\"------------------------------------------------------------------------------------------------------\")\n",
    "print(\"la phrase 2: \",generation_phrases(lis_4))"
   ]
  },
  {
   "cell_type": "code",
   "execution_count": null,
   "id": "c3b1fffa",
   "metadata": {},
   "outputs": [],
   "source": []
  }
 ],
 "metadata": {
  "kernelspec": {
   "display_name": "Python 3 (ipykernel)",
   "language": "python",
   "name": "python3"
  },
  "language_info": {
   "codemirror_mode": {
    "name": "ipython",
    "version": 3
   },
   "file_extension": ".py",
   "mimetype": "text/x-python",
   "name": "python",
   "nbconvert_exporter": "python",
   "pygments_lexer": "ipython3",
   "version": "3.9.7"
  }
 },
 "nbformat": 4,
 "nbformat_minor": 5
}
