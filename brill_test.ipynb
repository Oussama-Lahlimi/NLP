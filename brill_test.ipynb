{
 "cells": [
  {
   "cell_type": "code",
   "execution_count": null,
   "id": "ad54ed34",
   "metadata": {},
   "outputs": [],
   "source": [
    "def choix_Etiquette(dict_etq):\n",
    "    my_dict={}\n",
    "    keys = list(dict_etq.keys())\n",
    "    for k in keys:\n",
    "        for key, value in dict_etq[k].items():\n",
    "            print(dict_etq[k].items())\n",
    "            print(max(dict_etq[k].values()))\n",
    "            if value == max(dict_etq[k].values()):\n",
    "                my_dict[k]=key\n",
    "                print(k,key)\n",
    "    return my_dict"
   ]
  }
 ],
 "metadata": {
  "kernelspec": {
   "display_name": "Python 3 (ipykernel)",
   "language": "python",
   "name": "python3"
  },
  "language_info": {
   "codemirror_mode": {
    "name": "ipython",
    "version": 3
   },
   "file_extension": ".py",
   "mimetype": "text/x-python",
   "name": "python",
   "nbconvert_exporter": "python",
   "pygments_lexer": "ipython3",
   "version": "3.9.7"
  }
 },
 "nbformat": 4,
 "nbformat_minor": 5
}
